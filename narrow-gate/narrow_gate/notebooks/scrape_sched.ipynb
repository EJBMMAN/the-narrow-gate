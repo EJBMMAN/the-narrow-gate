{
 "cells": [
  {
   "cell_type": "code",
   "execution_count": 1,
   "metadata": {
    "id": "aJsDeeUVDZdR"
   },
   "outputs": [],
   "source": [
    "# import libraries\n",
    "import os\n",
    "from dotenv import load_dotenv\n",
    "import datetime\n",
    "import requests\n",
    "from bs4 import BeautifulSoup\n",
    "import pandas as pd\n",
    "import plotly.express as px\n",
    "from geopy.distance import geodesic\n",
    "import googlemaps\n",
    "import time\n",
    "from pathlib import Path\n",
    "\n"
   ]
  },
  {
   "cell_type": "code",
   "execution_count": 2,
   "metadata": {},
   "outputs": [
    {
     "data": {
      "text/plain": [
       "PosixPath('/mnt/g/Side Projects/the-narrow-gate/narrow-gate/narrow_gate/notebooks')"
      ]
     },
     "execution_count": 2,
     "metadata": {},
     "output_type": "execute_result"
    }
   ],
   "source": [
    "Path.cwd()"
   ]
  },
  {
   "cell_type": "code",
   "execution_count": 3,
   "metadata": {},
   "outputs": [],
   "source": [
    "# get secrets\n",
    "load_dotenv()\n",
    "\n",
    "GEMINI_API_KEY = os.getenv('GEMINI_API_KEY')\n",
    "GOOGLE_MAPS_API_KEY = os.getenv('GOOGLE_MAPS_API_KEY')"
   ]
  },
  {
   "cell_type": "code",
   "execution_count": 4,
   "metadata": {
    "id": "EJlusOsSDhYB"
   },
   "outputs": [],
   "source": [
    "#set up\n",
    "gmaps = googlemaps.Client(key=GOOGLE_MAPS_API_KEY)\n",
    "# genai.configure(api_key=GEMINI_API_KEY)\n",
    "URL = 'https://www.mass-schedules.com'\n",
    "header = {\"User-Agent\": \"Mozilla/5.0 (Macintosh; Intel Mac OS X 10_15_7) AppleWebKit/537.36 (KHTML, like Gecko) Chrome/97.0.4692.99 Safari/537.36\"}"
   ]
  },
  {
   "cell_type": "code",
   "execution_count": 5,
   "metadata": {
    "id": "Gy_SV59sDml4"
   },
   "outputs": [],
   "source": [
    "#getting the data from the website\n",
    "\n",
    "def get_page(url):\n",
    "  page = requests.get(url, headers=header)\n",
    "  s1 = BeautifulSoup(page.content,'html.parser')\n",
    "  s2 = BeautifulSoup(s1.prettify(),'html.parser')\n",
    "  return s2\n",
    "\n",
    "def get_map(s2):\n",
    "  loc_map = {}\n",
    "  tables = s2.find_all('table')\n",
    "  for a in tables[0].find_all('a', href=True):\n",
    "    city = a.contents[0].strip()\n",
    "    s2 = get_page(URL+a['href']) # get churches for specific city\n",
    "    tables = s2.find_all('table') # get all churches\n",
    "    loc_map[city] = [(x.find('span', {'class':'list_church_name'}).contents[0].strip(), x['href']) for x in tables[0].find_all('a', href=True)]\n",
    "  return loc_map\n",
    "\n",
    "def cell_parse(cell, tag, filter):\n",
    "  if cell.find(tag, filter):\n",
    "    return cell.find(tag, filter).contents[0].strip()\n",
    "  else:\n",
    "    return ''\n",
    "\n",
    "def get_church_info(x):\n",
    "  church_info = {}\n",
    "  for li in get_page(x).find('ul', id='church_info1').find_all('li'):\n",
    "    try:\n",
    "      church_info[li.find('label').contents[0].strip()[:-1]] = li.find('p').contents[0].strip()\n",
    "    except:\n",
    "      pass\n",
    "\n",
    "  return church_info\n",
    "\n",
    "def get_mass_schedule(x):\n",
    "  mass_schedule = []\n",
    "  for row in get_page(x).find_all(\"tr\"):\n",
    "    for idx, cell in enumerate(row.find_all(\"td\")):\n",
    "      temp = {}\n",
    "      temp['day_of_week'] = idx\n",
    "      temp['schedule'] = cell_parse(cell, 'p', {'class':'schedule'})\n",
    "      temp['language'] = cell_parse(cell, 'p', {'class':'language'})\n",
    "      temp['comment'] = cell_parse(cell, 'p', {'class':'comment'})\n",
    "      if temp['schedule']!='':\n",
    "        mass_schedule.append(temp)\n",
    "\n",
    "  return mass_schedule\n",
    "\n",
    "def compile_churches(city):\n",
    "  churches = []\n",
    "  for x in city:\n",
    "    print(x)\n",
    "    temp = {}\n",
    "    temp['church_name'] = x[0]\n",
    "    temp.update(get_church_info(URL+x[1]))\n",
    "    churches.append(temp)\n",
    "\n",
    "\n",
    "  return pd.DataFrame(churches)\n",
    "\n",
    "\n",
    "def compile_schedules(city):\n",
    "  schedules = []\n",
    "  for x in city:\n",
    "    temp = pd.DataFrame(get_mass_schedule(URL+x[1]))\n",
    "    temp['church_name'] = x[0]\n",
    "    temp['church_address'] = get_church_info(URL+x[1])['address']\n",
    "    schedules.append(temp)\n",
    "\n",
    "  return pd.concat(schedules)\n",
    "\n",
    "def build_church_dataset(city_map):\n",
    "  churches = pd.concat([compile_churches(city_map[c]) for c in list(city_map.keys())])\n",
    "  churches['coords'] = churches.address.apply(lambda x: gmaps.geocode(x)[0]['geometry']['location'])\n",
    "  churches['long'] = churches.coords.apply(lambda x: x['lng'])\n",
    "  churches['lat'] = churches.coords.apply(lambda x: x['lat'])\n",
    "  print(churches.shape)\n",
    "  #churches.to_csv('churches.csv')\n",
    "  return churches\n",
    "\n",
    "def calculate_distance(x, geocode_in):\n",
    "    return geodesic(x, (geocode_in[0]['geometry']['location']['lat'], geocode_in[0]['geometry']['location']['lng']))\n",
    "\n",
    "def time_diff(start_time, end_time):\n",
    "    \"\"\"Calculates the time difference between two time strings in HH:MM am/pm format.\n",
    "\n",
    "    Args:\n",
    "        start_time: The start time string.\n",
    "        end_time: The end time string.\n",
    "\n",
    "    Returns:\n",
    "        A datetime.timedelta object representing the time difference.\n",
    "    \"\"\"\n",
    "\n",
    "    # Parse the time strings into datetime objects\n",
    "    start_datetime = datetime.datetime.strptime(start_time, '%I:%M %p')\n",
    "    end_datetime = datetime.datetime.strptime(end_time, '%I:%M %p')\n",
    "\n",
    "    # Calculate the time difference\n",
    "    time_difference = end_datetime - start_datetime\n",
    "\n",
    "    return time_difference\n",
    "\n",
    "def find_mass(sample_address, search_range, target_sched, current_datetime):\n",
    "  sample_geocode = gmaps.geocode(sample_address)\n",
    "  churches['relative_dist'] = churches.apply(lambda x: calculate_distance((x['lat'],x['long']), sample_geocode).km, axis=1)\n",
    "  church_results = churches[churches.relative_dist<=5]\n",
    "  church_results.sort_values(by='relative_dist', inplace=True)\n",
    "\n",
    "  masses['mass_start'] = masses['schedule'].apply(lambda x: x.split(' - ')[0])\n",
    "  masses['mass_end'] = masses['schedule'].apply(lambda x: x.split(' - ')[1])\n",
    "  mass_results = masses[(masses.mass_start==target_sched) & (masses.church_address.isin(church_results.church_address)) & (masses.day_of_week==current_datetime.weekday())]\n",
    "\n",
    "  church_results = church_results[church_results.church_name.isin(mass_results.church_name)]\n",
    "  church_results['Travel Time(mins)'] = church_results.address.apply(lambda x: gmaps.distance_matrix(sample_address, x, mode=\"driving\", departure_time=datetime.datetime.now()))\n",
    "  church_results['Travel Time(mins)'] = church_results['Travel Time(mins)'].apply(lambda x: x['rows'][0]['elements'][0]['duration']['value'] / 60)\n",
    "\n",
    "  travel_times = church_results[['church_name','Travel Time(mins)']].set_index('church_name').to_dict()['Travel Time(mins)']\n",
    "  #addresses = church_results[['church_name','address']].set_index('church_name').to_dict()['address']\n",
    "\n",
    "  mass_results['Travel Time(Mins)'] = mass_results.church_name.replace(travel_times)\n",
    "  #mass_results['Address'] = mass_results.church_name.replace(addresses)\n",
    "  mass_results = mass_results.sort_values(by='Travel Time(Mins)').drop_duplicates(subset=['church_name']).head()\n",
    "  mass_results['Arrival Time'] = mass_results['Travel Time(Mins)'].apply(lambda x: (current_datetime + datetime.timedelta(minutes=x)).strftime(\"%I:%M %p\"))\n",
    "\n",
    "  return church_results, mass_results[['church_name', 'Address', 'schedule', 'language', 'comment', 'Travel Time(Mins)', 'Arrival Time']]\n",
    "\n",
    "def refresh_dataset():\n",
    "    s2 = get_page(URL+\"/philippine-locations.html\")\n",
    "    tables = s2.find_all('table') # get all cities\n",
    "    city_map = get_map(s2)\n",
    "    \n",
    "    # note: figure out how to handle confessions\n",
    "    churches = build_church_dataset(city_map)\n",
    "    print(churches.shape)\n",
    "    masses = pd.concat([compile_schedules(city_map[c]) for c in list(city_map.keys())])\n",
    "    masses['day_of_week'] = abs(masses['day_of_week'] - 6)\n",
    "    print(masses.shape)\n",
    "    churches.to_csv('../data/churches.csv')\n",
    "    masses.to_csv('../data/masses.csv')"
   ]
  },
  {
   "cell_type": "code",
   "execution_count": 6,
   "metadata": {
    "colab": {
     "base_uri": "https://localhost:8080/",
     "height": 373
    },
    "id": "SJBLIYnRJ98n",
    "outputId": "7678efd7-4015-47c0-80b8-155bb86027ee"
   },
   "outputs": [],
   "source": [
    "s2 = get_page(URL+\"/philippine-locations.html\")\n",
    "tables = s2.find_all('table') # get all cities\n",
    "city_map = get_map(s2)"
   ]
  },
  {
   "cell_type": "code",
   "execution_count": null,
   "metadata": {
    "scrolled": true
   },
   "outputs": [
    {
     "name": "stdout",
     "output_type": "stream",
     "text": [
      "('Archdiocesan Shrine of Christ our Lord of the Holy Sepulcher (Apung Mamacalulu)', '/catholic-church/1498/archdiocesan-shrine-of-christ-our-lord-of-the-holy-sepulcher-apung-mamacalulu.html')\n",
      "('Christ the King Parish', '/catholic-church/1499/christ-the-king-parish.html')\n",
      "('Holy Cross Parish', '/catholic-church/2065/holy-cross-parish.html')\n",
      "('Holy Rosary Parish (Pisamban Maragul)', '/catholic-church/40/holy-rosary-parish-pisamban-maragul.html')\n",
      "('Holy Spirit Parish', '/catholic-church/1500/holy-spirit-parish.html')\n",
      "('Immaculate Conception Parish', '/catholic-church/1501/immaculate-conception-parish.html')\n",
      "('Jesus The Eternal Word Parish', '/catholic-church/1502/jesus-the-eternal-word-parish.html')\n",
      "('Our Lady Of Fatima Parish', '/catholic-church/1503/our-lady-of-fatima-parish.html')\n",
      "('Our Lady of Lourdes Parish', '/catholic-church/1504/our-lady-of-lourdes-parish.html')\n",
      "('Our Lady of Perpetual Help Chapel', '/catholic-church/1355/our-lady-of-perpetual-help-chapel.html')\n",
      "('Our Lady of Remedies Chapel', '/catholic-church/902/our-lady-of-remedies-chapel.html')\n",
      "('Sta. Teresita Parish', '/catholic-church/1505/sta-teresita-parish.html')\n",
      "(\"The Lord's Transfiguration Parish\", '/catholic-church/948/the-lord-transfiguration-parish.html')\n",
      "('Blessed Mother and St. John the Evangelist Churh', '/catholic-church/483/blessed-mother-and-st-john-the-evangelist-churh.html')\n",
      "('Holy Family Parish', '/catholic-church/911/holy-family-parish.html')\n",
      "('Holy Family Parish', '/catholic-church/471/holy-family-parish.html')\n",
      "('Immaculate Conception Parish', '/catholic-church/912/immaculate-conception-parish.html')\n",
      "('Nuestra Señora de Salvacion Parish', '/catholic-church/504/nuestra-senora-de-salvacion-parish.html')\n",
      "('Our Lady of Candles Parish', '/catholic-church/914/our-lady-of-candles-parish.html')\n",
      "('Our Lady of Fatima Parish', '/catholic-church/920/our-lady-of-fatima-parish.html')\n",
      "('Our Lady of Lourdes', '/catholic-church/913/our-lady-of-lourdes.html')\n",
      "('Our Lady of Lourdes Parish', '/catholic-church/490/our-lady-of-lourdes-parish.html')\n",
      "('Our Lady of Mt. Carmel Chapel', '/catholic-church/915/our-lady-of-mt-carmel-chapel.html')\n",
      "('Our Lady of Peace and Good Voyage', '/catholic-church/917/our-lady-of-peace-and-good-voyage.html')\n",
      "('Our Lady of the Holy Rosary Chaplaincy', '/catholic-church/491/our-lady-of-the-holy-rosary-chaplaincy.html')\n",
      "('Our Lady Of The Miraculous Medal Chapel', '/catholic-church/910/our-lady-of-the-miraculous-medal-chapel.html')\n",
      "('Our Lady Of The Miraculous Medal Chaplaincy', '/catholic-church/935/our-lady-of-the-miraculous-medal-chaplaincy.html')\n",
      "('Our Lady of the Miraculous Medal Parish and Shrine', '/catholic-church/470/our-lady-of-the-miraculous-medal-parish-and-shrine.html')\n",
      "('Our Lady of the Most Holy Rosary Parish and Shrine', '/catholic-church/493/our-lady-of-the-most-holy-rosary-parish-and-shrine.html')\n",
      "('Queen of Peace Parish', '/catholic-church/503/queen-of-peace-parish.html')\n",
      "('Sacred Heart Shrine (Lupit Church)', '/catholic-church/479/sacred-heart-shrine-lupit-church.html')\n",
      "('San Antonio Abad Parish', '/catholic-church/916/san-antonio-abad-parish.html')\n",
      "('San Antonio de Padua', '/catholic-church/918/san-antonio-de-padua.html')\n",
      "('San Isidro Labrador Parish', '/catholic-church/478/san-isidro-labrador-parish.html')\n",
      "('San Sebastian Cathedral', '/catholic-church/7/san-sebastian-cathedral.html')\n",
      "('Shrine of Our Lady of Perpetual Help (Redemptorist Church)', '/catholic-church/55/shrine-of-our-lady-of-perpetual-help-redemptorist-church.html')\n",
      "('St. John the Baptist Chaplaincy', '/catholic-church/476/st-john-the-baptist-chaplaincy.html')\n",
      "('St. Joseph the Worker Chaplaincy', '/catholic-church/919/st-joseph-the-worker-chaplaincy.html')\n",
      "('St. Joseph The Worker Parish', '/catholic-church/936/st-joseph-the-worker-parish.html')\n",
      "('St. Joseph, Husband of Mary Chaplaincy', '/catholic-church/487/st-joseph-husband-of-mary-chaplaincy.html')\n",
      "('St. Joseph, Husband of Mary Parish', '/catholic-church/475/st-joseph-husband-of-mary-parish.html')\n",
      "('St. Juan Nepomuceno Parish', '/catholic-church/474/st-juan-nepomuceno-parish.html')\n",
      "('St. Jude Thaddeus Parish and Diocesan Shrine', '/catholic-church/468/st-jude-thaddeus-parish-and-diocesan-shrine.html')\n",
      "('St. Matthew Chaplaincy', '/catholic-church/501/st-matthew-chaplaincy.html')\n",
      "('St. Therese of the Child Jesus Quasi-Parish', '/catholic-church/498/st-therese-of-the-child-jesus-quasi-parish.html')\n",
      "('Sto. Niño Chapel', '/catholic-church/499/sto-nino-chapel.html')\n",
      "('Sto. Niño Chaplaincy', '/catholic-church/934/sto-nino-chaplaincy.html')\n",
      "('Sto. Niño Parish', '/catholic-church/472/sto-nino-parish.html')\n",
      "('Sto.Niño Parish and Shrine', '/catholic-church/496/stonino-parish-and-shrine.html')\n",
      "('Triumph of the Holy Cross Parish', '/catholic-church/486/triumph-of-the-holy-cross-parish.html')\n",
      "('University of St. La Salle Chapel', '/catholic-church/982/university-of-st-la-salle-chapel.html')\n",
      "(\"Adoration Convent of the Divine Mercy (Pink Sisters's Convent)\", '/catholic-church/878/adoration-convent-of-the-divine-mercy-pink-sisters-convent.html')\n",
      "('Holy Family Parish', '/catholic-church/320/holy-family-parish.html')\n",
      "('Immaculate Conception Parish', '/catholic-church/321/immaculate-conception-parish.html')\n",
      "('Our Lady of Atonement Cathedral ( Baguio Cathedral)', '/catholic-church/10/our-lady-of-atonement-cathedral-baguio-cathedral.html')\n",
      "('Our Lady of Grace Parish', '/catholic-church/1393/our-lady-of-grace-parish.html')\n",
      "('Our Lady of Lourdes Church', '/catholic-church/326/our-lady-of-lourdes-church.html')\n",
      "('San Lorenzo Ruiz Parish', '/catholic-church/1497/san-lorenzo-ruiz-parish.html')\n",
      "('St. Aloysius Gonzaga Parish (SLU Parish)', '/catholic-church/1495/st-aloysius-gonzaga-parish-slu-parish.html')\n",
      "('St. John Bosco Parish', '/catholic-church/322/st-john-bosco-parish.html')\n",
      "('St. Joseph the Husband of Mary Parish', '/catholic-church/1496/st-joseph-the-husband-of-mary-parish.html')\n",
      "('St. Joseph The Worker Parish', '/catholic-church/19/st-joseph-the-worker-parish.html')\n",
      "('St. Louis University Parish', '/catholic-church/324/st-louis-university-parish.html')\n",
      "('St. Vincent Parish', '/catholic-church/325/st-vincent-parish.html')\n",
      "('Birhen sa Kasilak Mindanao Shrine Parish', '/catholic-church/1506/birhen-sa-kasilak-mindanao-shrine-parish.html')\n",
      "('Christ the King Parish', '/catholic-church/282/christ-the-king-parish.html')\n",
      "('Holy Cross Parish', '/catholic-church/283/holy-cross-parish.html')\n"
     ]
    }
   ],
   "source": [
    "refresh_dataset()"
   ]
  },
  {
   "cell_type": "code",
   "execution_count": null,
   "metadata": {},
   "outputs": [],
   "source": [
    "churches = pd.read_csv('../data/churches.csv')\n",
    "masses = pd.read_csv('../data/masses.csv')"
   ]
  },
  {
   "cell_type": "code",
   "execution_count": null,
   "metadata": {
    "id": "SCCFsKpI_G-G"
   },
   "outputs": [],
   "source": [
    "sample_address = 'Skyway Twin Towers Condominium Capt. Javier st. Brgy Oranbo Pasig city'\n",
    "search_range = 10\n",
    "target_sched = '6:00 PM'\n",
    "current_datetime = datetime.datetime.now()"
   ]
  },
  {
   "cell_type": "code",
   "execution_count": null,
   "metadata": {
    "id": "DO8djQid96qu"
   },
   "outputs": [],
   "source": [
    "church_results, mass_results = find_mass(sample_address, search_range, target_sched, current_datetime)\n",
    "\n",
    "fig = px.scatter_map(church_results[church_results.church_name.isin(mass_results.church_name)],\n",
    "                     lat=\"lat\",\n",
    "                     lon=\"long\",\n",
    "                     hover_name=\"church_name\", # display church name on hover\n",
    "                     text=\"church_name\"\n",
    "                     )\n",
    "sample_geocode = gmaps.geocode(sample_address)\n",
    "fig.add_scattermap(lon=[sample_geocode[0]['geometry']['location']['lng']],\n",
    "                   lat=[sample_geocode[0]['geometry']['location']['lat']],\n",
    "                   name='my location'\n",
    "                   )\n",
    "\n",
    "fig.show()\n",
    "mass_results"
   ]
  },
  {
   "cell_type": "code",
   "execution_count": null,
   "metadata": {
    "id": "pgSvtGjdh6rd"
   },
   "outputs": [],
   "source": []
  }
 ],
 "metadata": {
  "colab": {
   "provenance": []
  },
  "kernelspec": {
   "display_name": "Python 3 (ipykernel)",
   "language": "python",
   "name": "python3"
  },
  "language_info": {
   "codemirror_mode": {
    "name": "ipython",
    "version": 3
   },
   "file_extension": ".py",
   "mimetype": "text/x-python",
   "name": "python",
   "nbconvert_exporter": "python",
   "pygments_lexer": "ipython3",
   "version": "3.12.3"
  }
 },
 "nbformat": 4,
 "nbformat_minor": 4
}
