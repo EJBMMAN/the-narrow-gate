{
 "cells": [
  {
   "cell_type": "code",
   "execution_count": 1,
   "metadata": {
    "id": "aJsDeeUVDZdR"
   },
   "outputs": [],
   "source": [
    "# import libraries\n",
    "import os\n",
    "from dotenv import load_dotenv\n",
    "import datetime\n",
    "import requests\n",
    "from bs4 import BeautifulSoup\n",
    "import pandas as pd\n",
    "import plotly.express as px\n",
    "from geopy.distance import geodesic\n",
    "import googlemaps\n",
    "import time\n",
    "from pathlib import Path\n",
    "from narrow_gate.src.utils.scrape import  *\n",
    "from narrow_gate.src.utils.finder import  *"
   ]
  },
  {
   "cell_type": "code",
   "execution_count": 2,
   "metadata": {},
   "outputs": [
    {
     "data": {
      "text/plain": [
       "PosixPath('/mnt/g/Side Projects/the-narrow-gate/narrow-gate')"
      ]
     },
     "execution_count": 2,
     "metadata": {},
     "output_type": "execute_result"
    }
   ],
   "source": [
    "Path.cwd()"
   ]
  },
  {
   "cell_type": "code",
   "execution_count": null,
   "metadata": {},
   "outputs": [],
   "source": [
    "# get secrets\n",
    "# load_dotenv()\n",
    "\n",
    "GEMINI_API_KEY = os.getenv('GEMINI_API_KEY')\n",
    "GOOGLE_MAPS_API_KEY = os.getenv('GOOGLE_MAPS_API_KEY')"
   ]
  },
  {
   "cell_type": "code",
   "execution_count": 4,
   "metadata": {
    "id": "EJlusOsSDhYB"
   },
   "outputs": [],
   "source": [
    "#set up\n",
    "gmaps = googlemaps.Client(key=GOOGLE_MAPS_API_KEY)\n",
    "# genai.configure(api_key=GEMINI_API_KEY)\n",
    "URL = 'https://www.mass-schedules.com'\n",
    "header = {\"User-Agent\": \"Mozilla/5.0 (Macintosh; Intel Mac OS X 10_15_7) AppleWebKit/537.36 (KHTML, like Gecko) Chrome/97.0.4692.99 Safari/537.36\"}"
   ]
  },
  {
   "cell_type": "code",
   "execution_count": 5,
   "metadata": {
    "colab": {
     "base_uri": "https://localhost:8080/",
     "height": 373
    },
    "id": "SJBLIYnRJ98n",
    "outputId": "7678efd7-4015-47c0-80b8-155bb86027ee"
   },
   "outputs": [],
   "source": [
    "# refresh_dataset()\n",
    "churches = pd.read_csv('./narrow_gate/data/churches.csv')\n",
    "masses = pd.read_csv('./narrow_gate/data/masses.csv')"
   ]
  },
  {
   "cell_type": "code",
   "execution_count": 6,
   "metadata": {},
   "outputs": [
    {
     "data": {
      "text/html": [
       "<div>\n",
       "<style scoped>\n",
       "    .dataframe tbody tr th:only-of-type {\n",
       "        vertical-align: middle;\n",
       "    }\n",
       "\n",
       "    .dataframe tbody tr th {\n",
       "        vertical-align: top;\n",
       "    }\n",
       "\n",
       "    .dataframe thead th {\n",
       "        text-align: right;\n",
       "    }\n",
       "</style>\n",
       "<table border=\"1\" class=\"dataframe\">\n",
       "  <thead>\n",
       "    <tr style=\"text-align: right;\">\n",
       "      <th></th>\n",
       "      <th>Unnamed: 0</th>\n",
       "      <th>day_of_week</th>\n",
       "      <th>schedule</th>\n",
       "      <th>language</th>\n",
       "      <th>comment</th>\n",
       "      <th>church_name</th>\n",
       "      <th>church_address</th>\n",
       "    </tr>\n",
       "  </thead>\n",
       "  <tbody>\n",
       "    <tr>\n",
       "      <th>0</th>\n",
       "      <td>0</td>\n",
       "      <td>6.0</td>\n",
       "      <td>8:00 AM - 9:00 AM</td>\n",
       "      <td>Kapampangan</td>\n",
       "      <td>Livestream</td>\n",
       "      <td>Archdiocesan Shrine of Christ our Lord of the ...</td>\n",
       "      <td>C. Dayrit St., Lourdes Sur, Angeles City, Pamp...</td>\n",
       "    </tr>\n",
       "    <tr>\n",
       "      <th>1</th>\n",
       "      <td>1</td>\n",
       "      <td>3.0</td>\n",
       "      <td>5:30 PM - 6:30 PM</td>\n",
       "      <td>English</td>\n",
       "      <td>NaN</td>\n",
       "      <td>Archdiocesan Shrine of Christ our Lord of the ...</td>\n",
       "      <td>C. Dayrit St., Lourdes Sur, Angeles City, Pamp...</td>\n",
       "    </tr>\n",
       "    <tr>\n",
       "      <th>2</th>\n",
       "      <td>2</td>\n",
       "      <td>1.0</td>\n",
       "      <td>5:00 AM - 6:00 AM</td>\n",
       "      <td>Kapampangan</td>\n",
       "      <td>NaN</td>\n",
       "      <td>Archdiocesan Shrine of Christ our Lord of the ...</td>\n",
       "      <td>C. Dayrit St., Lourdes Sur, Angeles City, Pamp...</td>\n",
       "    </tr>\n",
       "    <tr>\n",
       "      <th>3</th>\n",
       "      <td>3</td>\n",
       "      <td>1.0</td>\n",
       "      <td>6:30 AM - 7:30 AM</td>\n",
       "      <td>Kapampangan</td>\n",
       "      <td>FB Live</td>\n",
       "      <td>Archdiocesan Shrine of Christ our Lord of the ...</td>\n",
       "      <td>C. Dayrit St., Lourdes Sur, Angeles City, Pamp...</td>\n",
       "    </tr>\n",
       "    <tr>\n",
       "      <th>4</th>\n",
       "      <td>4</td>\n",
       "      <td>1.0</td>\n",
       "      <td>8:00 AM - 9:00 AM</td>\n",
       "      <td>English</td>\n",
       "      <td>FB Live</td>\n",
       "      <td>Archdiocesan Shrine of Christ our Lord of the ...</td>\n",
       "      <td>C. Dayrit St., Lourdes Sur, Angeles City, Pamp...</td>\n",
       "    </tr>\n",
       "    <tr>\n",
       "      <th>...</th>\n",
       "      <td>...</td>\n",
       "      <td>...</td>\n",
       "      <td>...</td>\n",
       "      <td>...</td>\n",
       "      <td>...</td>\n",
       "      <td>...</td>\n",
       "      <td>...</td>\n",
       "    </tr>\n",
       "    <tr>\n",
       "      <th>8934</th>\n",
       "      <td>28</td>\n",
       "      <td>6.0</td>\n",
       "      <td>12:00 PM - 1:00 PM</td>\n",
       "      <td>English</td>\n",
       "      <td>NaN</td>\n",
       "      <td>Zamboanga Cathedral</td>\n",
       "      <td>La Purisima St., Zamboanga City, Zamboanga del...</td>\n",
       "    </tr>\n",
       "    <tr>\n",
       "      <th>8935</th>\n",
       "      <td>29</td>\n",
       "      <td>6.0</td>\n",
       "      <td>3:00 PM - 4:00 PM</td>\n",
       "      <td>English</td>\n",
       "      <td>NaN</td>\n",
       "      <td>Zamboanga Cathedral</td>\n",
       "      <td>La Purisima St., Zamboanga City, Zamboanga del...</td>\n",
       "    </tr>\n",
       "    <tr>\n",
       "      <th>8936</th>\n",
       "      <td>30</td>\n",
       "      <td>6.0</td>\n",
       "      <td>4:30 PM - 5:30 PM</td>\n",
       "      <td>Cebuano</td>\n",
       "      <td>NaN</td>\n",
       "      <td>Zamboanga Cathedral</td>\n",
       "      <td>La Purisima St., Zamboanga City, Zamboanga del...</td>\n",
       "    </tr>\n",
       "    <tr>\n",
       "      <th>8937</th>\n",
       "      <td>31</td>\n",
       "      <td>6.0</td>\n",
       "      <td>6:00 PM - 7:00 PM</td>\n",
       "      <td>English</td>\n",
       "      <td>NaN</td>\n",
       "      <td>Zamboanga Cathedral</td>\n",
       "      <td>La Purisima St., Zamboanga City, Zamboanga del...</td>\n",
       "    </tr>\n",
       "    <tr>\n",
       "      <th>8938</th>\n",
       "      <td>32</td>\n",
       "      <td>6.0</td>\n",
       "      <td>7:15 PM - 8:15 PM</td>\n",
       "      <td>English</td>\n",
       "      <td>NaN</td>\n",
       "      <td>Zamboanga Cathedral</td>\n",
       "      <td>La Purisima St., Zamboanga City, Zamboanga del...</td>\n",
       "    </tr>\n",
       "  </tbody>\n",
       "</table>\n",
       "<p>8939 rows × 7 columns</p>\n",
       "</div>"
      ],
      "text/plain": [
       "      Unnamed: 0  day_of_week            schedule     language     comment  \\\n",
       "0              0          6.0   8:00 AM - 9:00 AM  Kapampangan  Livestream   \n",
       "1              1          3.0   5:30 PM - 6:30 PM      English         NaN   \n",
       "2              2          1.0   5:00 AM - 6:00 AM  Kapampangan         NaN   \n",
       "3              3          1.0   6:30 AM - 7:30 AM  Kapampangan     FB Live   \n",
       "4              4          1.0   8:00 AM - 9:00 AM      English     FB Live   \n",
       "...          ...          ...                 ...          ...         ...   \n",
       "8934          28          6.0  12:00 PM - 1:00 PM      English         NaN   \n",
       "8935          29          6.0   3:00 PM - 4:00 PM      English         NaN   \n",
       "8936          30          6.0   4:30 PM - 5:30 PM      Cebuano         NaN   \n",
       "8937          31          6.0   6:00 PM - 7:00 PM      English         NaN   \n",
       "8938          32          6.0   7:15 PM - 8:15 PM      English         NaN   \n",
       "\n",
       "                                            church_name  \\\n",
       "0     Archdiocesan Shrine of Christ our Lord of the ...   \n",
       "1     Archdiocesan Shrine of Christ our Lord of the ...   \n",
       "2     Archdiocesan Shrine of Christ our Lord of the ...   \n",
       "3     Archdiocesan Shrine of Christ our Lord of the ...   \n",
       "4     Archdiocesan Shrine of Christ our Lord of the ...   \n",
       "...                                                 ...   \n",
       "8934                                Zamboanga Cathedral   \n",
       "8935                                Zamboanga Cathedral   \n",
       "8936                                Zamboanga Cathedral   \n",
       "8937                                Zamboanga Cathedral   \n",
       "8938                                Zamboanga Cathedral   \n",
       "\n",
       "                                         church_address  \n",
       "0     C. Dayrit St., Lourdes Sur, Angeles City, Pamp...  \n",
       "1     C. Dayrit St., Lourdes Sur, Angeles City, Pamp...  \n",
       "2     C. Dayrit St., Lourdes Sur, Angeles City, Pamp...  \n",
       "3     C. Dayrit St., Lourdes Sur, Angeles City, Pamp...  \n",
       "4     C. Dayrit St., Lourdes Sur, Angeles City, Pamp...  \n",
       "...                                                 ...  \n",
       "8934  La Purisima St., Zamboanga City, Zamboanga del...  \n",
       "8935  La Purisima St., Zamboanga City, Zamboanga del...  \n",
       "8936  La Purisima St., Zamboanga City, Zamboanga del...  \n",
       "8937  La Purisima St., Zamboanga City, Zamboanga del...  \n",
       "8938  La Purisima St., Zamboanga City, Zamboanga del...  \n",
       "\n",
       "[8939 rows x 7 columns]"
      ]
     },
     "execution_count": 6,
     "metadata": {},
     "output_type": "execute_result"
    }
   ],
   "source": [
    "masses"
   ]
  },
  {
   "cell_type": "code",
   "execution_count": 7,
   "metadata": {},
   "outputs": [
    {
     "data": {
      "text/html": [
       "<div>\n",
       "<style scoped>\n",
       "    .dataframe tbody tr th:only-of-type {\n",
       "        vertical-align: middle;\n",
       "    }\n",
       "\n",
       "    .dataframe tbody tr th {\n",
       "        vertical-align: top;\n",
       "    }\n",
       "\n",
       "    .dataframe thead th {\n",
       "        text-align: right;\n",
       "    }\n",
       "</style>\n",
       "<table border=\"1\" class=\"dataframe\">\n",
       "  <thead>\n",
       "    <tr style=\"text-align: right;\">\n",
       "      <th></th>\n",
       "      <th>Unnamed: 0</th>\n",
       "      <th>church_name</th>\n",
       "      <th>address</th>\n",
       "      <th>telephone number</th>\n",
       "      <th>priest</th>\n",
       "      <th>confession</th>\n",
       "      <th>links</th>\n",
       "      <th>additional info</th>\n",
       "      <th>last update</th>\n",
       "      <th>coords</th>\n",
       "      <th>long</th>\n",
       "      <th>lat</th>\n",
       "    </tr>\n",
       "  </thead>\n",
       "  <tbody>\n",
       "    <tr>\n",
       "      <th>0</th>\n",
       "      <td>0</td>\n",
       "      <td>Archdiocesan Shrine of Christ our Lord of the ...</td>\n",
       "      <td>C. Dayrit St., Lourdes Sur, Angeles City, Pamp...</td>\n",
       "      <td>(045) 624 0344</td>\n",
       "      <td>NaN</td>\n",
       "      <td>NaN</td>\n",
       "      <td>NaN</td>\n",
       "      <td>NaN</td>\n",
       "      <td>Sun Jun 4, 2023 12:17PM</td>\n",
       "      <td>{'lat': 15.1416878, 'lng': 120.5909457}</td>\n",
       "      <td>120.590946</td>\n",
       "      <td>15.141688</td>\n",
       "    </tr>\n",
       "    <tr>\n",
       "      <th>1</th>\n",
       "      <td>1</td>\n",
       "      <td>Christ the King Parish</td>\n",
       "      <td>Pulung Cacutud, Angeles City, Pampanga</td>\n",
       "      <td>NaN</td>\n",
       "      <td>NaN</td>\n",
       "      <td>NaN</td>\n",
       "      <td>NaN</td>\n",
       "      <td>NaN</td>\n",
       "      <td>Sun Jun 4, 2023 12:20PM</td>\n",
       "      <td>{'lat': 15.1614718, 'lng': 120.6113599}</td>\n",
       "      <td>120.611360</td>\n",
       "      <td>15.161472</td>\n",
       "    </tr>\n",
       "    <tr>\n",
       "      <th>2</th>\n",
       "      <td>2</td>\n",
       "      <td>Holy Cross Parish</td>\n",
       "      <td>Sapangbato, Angeles City, Pampanga</td>\n",
       "      <td>0918 963 6828</td>\n",
       "      <td>NaN</td>\n",
       "      <td>NaN</td>\n",
       "      <td>NaN</td>\n",
       "      <td>NaN</td>\n",
       "      <td>Sun Jun 4, 2023 2:06PM</td>\n",
       "      <td>{'lat': 15.1670159, 'lng': 120.4898564}</td>\n",
       "      <td>120.489856</td>\n",
       "      <td>15.167016</td>\n",
       "    </tr>\n",
       "    <tr>\n",
       "      <th>3</th>\n",
       "      <td>3</td>\n",
       "      <td>Holy Rosary Parish (Pisamban Maragul)</td>\n",
       "      <td>Sto. Rosario St., Angeles City, Pampanga</td>\n",
       "      <td>0928 520 7489</td>\n",
       "      <td>NaN</td>\n",
       "      <td>MWF: 6AM-7AM; Sat: 430PM-530PM (except after 1...</td>\n",
       "      <td>NaN</td>\n",
       "      <td>NaN</td>\n",
       "      <td>Sun Jun 4, 2023 12:28PM</td>\n",
       "      <td>{'lat': 15.1322054, 'lng': 120.5931786}</td>\n",
       "      <td>120.593179</td>\n",
       "      <td>15.132205</td>\n",
       "    </tr>\n",
       "    <tr>\n",
       "      <th>4</th>\n",
       "      <td>4</td>\n",
       "      <td>Holy Spirit Parish</td>\n",
       "      <td>254 Astoria Avenue, Angeles City, Pampanga</td>\n",
       "      <td>0975 045 7696</td>\n",
       "      <td>NaN</td>\n",
       "      <td>NaN</td>\n",
       "      <td>NaN</td>\n",
       "      <td>NaN</td>\n",
       "      <td>Sun Jun 4, 2023 12:33PM</td>\n",
       "      <td>{'lat': 15.1504415, 'lng': 120.5960318}</td>\n",
       "      <td>120.596032</td>\n",
       "      <td>15.150441</td>\n",
       "    </tr>\n",
       "    <tr>\n",
       "      <th>...</th>\n",
       "      <td>...</td>\n",
       "      <td>...</td>\n",
       "      <td>...</td>\n",
       "      <td>...</td>\n",
       "      <td>...</td>\n",
       "      <td>...</td>\n",
       "      <td>...</td>\n",
       "      <td>...</td>\n",
       "      <td>...</td>\n",
       "      <td>...</td>\n",
       "      <td>...</td>\n",
       "      <td>...</td>\n",
       "    </tr>\n",
       "    <tr>\n",
       "      <th>676</th>\n",
       "      <td>22</td>\n",
       "      <td>St. Ignatius of Loyola Parish</td>\n",
       "      <td>Fr. Barua St, Zamboanga City, Zamboanga del Sur</td>\n",
       "      <td>(062) 993-1431</td>\n",
       "      <td>NaN</td>\n",
       "      <td>NaN</td>\n",
       "      <td>NaN</td>\n",
       "      <td>Eucharistic Hour every Thursday at 8PM</td>\n",
       "      <td>Fri Sep 29, 2023 9:13PM</td>\n",
       "      <td>{'lat': 6.9179516, 'lng': 122.0900869}</td>\n",
       "      <td>122.090087</td>\n",
       "      <td>6.917952</td>\n",
       "    </tr>\n",
       "    <tr>\n",
       "      <th>677</th>\n",
       "      <td>23</td>\n",
       "      <td>St. Joseph, Spouse of the Blessed Virgin Mary ...</td>\n",
       "      <td>Nunez St., Zamboanga City, Zamboanga del Sur</td>\n",
       "      <td>(062) 991 1657</td>\n",
       "      <td>NaN</td>\n",
       "      <td>NaN</td>\n",
       "      <td>NaN</td>\n",
       "      <td>NaN</td>\n",
       "      <td>Mon May 1, 2023 8:57PM</td>\n",
       "      <td>{'lat': 6.9067735, 'lng': 122.0780309}</td>\n",
       "      <td>122.078031</td>\n",
       "      <td>6.906773</td>\n",
       "    </tr>\n",
       "    <tr>\n",
       "      <th>678</th>\n",
       "      <td>24</td>\n",
       "      <td>St. Padre Pio Parish Church and Shrine</td>\n",
       "      <td>Sunset View, Cabatangan, Zamboanga City, Zambo...</td>\n",
       "      <td>NaN</td>\n",
       "      <td>NaN</td>\n",
       "      <td>NaN</td>\n",
       "      <td>NaN</td>\n",
       "      <td>NaN</td>\n",
       "      <td>Mon May 1, 2023 10:38PM</td>\n",
       "      <td>{'lat': 6.945071599999999, 'lng': 122.0525894}</td>\n",
       "      <td>122.052589</td>\n",
       "      <td>6.945072</td>\n",
       "    </tr>\n",
       "    <tr>\n",
       "      <th>679</th>\n",
       "      <td>25</td>\n",
       "      <td>St. Stanislaus Kostka Parish</td>\n",
       "      <td>Curuan, Zamboanga City, Zamboanga del Sur</td>\n",
       "      <td>NaN</td>\n",
       "      <td>NaN</td>\n",
       "      <td>NaN</td>\n",
       "      <td>NaN</td>\n",
       "      <td>NaN</td>\n",
       "      <td>Fri Sep 29, 2023 9:03PM</td>\n",
       "      <td>{'lat': 7.205373899999999, 'lng': 122.2284513}</td>\n",
       "      <td>122.228451</td>\n",
       "      <td>7.205374</td>\n",
       "    </tr>\n",
       "    <tr>\n",
       "      <th>680</th>\n",
       "      <td>26</td>\n",
       "      <td>Zamboanga Cathedral</td>\n",
       "      <td>La Purisima St., Zamboanga City, Zamboanga del...</td>\n",
       "      <td>0935 999 0877</td>\n",
       "      <td>NaN</td>\n",
       "      <td>NaN</td>\n",
       "      <td>NaN</td>\n",
       "      <td>NaN</td>\n",
       "      <td>Sun Jul 7, 2024 10:15PM</td>\n",
       "      <td>{'lat': 6.9081949, 'lng': 122.0756863}</td>\n",
       "      <td>122.075686</td>\n",
       "      <td>6.908195</td>\n",
       "    </tr>\n",
       "  </tbody>\n",
       "</table>\n",
       "<p>681 rows × 12 columns</p>\n",
       "</div>"
      ],
      "text/plain": [
       "     Unnamed: 0                                        church_name  \\\n",
       "0             0  Archdiocesan Shrine of Christ our Lord of the ...   \n",
       "1             1                             Christ the King Parish   \n",
       "2             2                                  Holy Cross Parish   \n",
       "3             3              Holy Rosary Parish (Pisamban Maragul)   \n",
       "4             4                                 Holy Spirit Parish   \n",
       "..          ...                                                ...   \n",
       "676          22                      St. Ignatius of Loyola Parish   \n",
       "677          23  St. Joseph, Spouse of the Blessed Virgin Mary ...   \n",
       "678          24             St. Padre Pio Parish Church and Shrine   \n",
       "679          25                       St. Stanislaus Kostka Parish   \n",
       "680          26                                Zamboanga Cathedral   \n",
       "\n",
       "                                               address telephone number  \\\n",
       "0    C. Dayrit St., Lourdes Sur, Angeles City, Pamp...   (045) 624 0344   \n",
       "1               Pulung Cacutud, Angeles City, Pampanga              NaN   \n",
       "2                   Sapangbato, Angeles City, Pampanga    0918 963 6828   \n",
       "3             Sto. Rosario St., Angeles City, Pampanga    0928 520 7489   \n",
       "4           254 Astoria Avenue, Angeles City, Pampanga    0975 045 7696   \n",
       "..                                                 ...              ...   \n",
       "676    Fr. Barua St, Zamboanga City, Zamboanga del Sur   (062) 993-1431   \n",
       "677       Nunez St., Zamboanga City, Zamboanga del Sur   (062) 991 1657   \n",
       "678  Sunset View, Cabatangan, Zamboanga City, Zambo...              NaN   \n",
       "679          Curuan, Zamboanga City, Zamboanga del Sur              NaN   \n",
       "680  La Purisima St., Zamboanga City, Zamboanga del...    0935 999 0877   \n",
       "\n",
       "    priest                                         confession  links  \\\n",
       "0      NaN                                                NaN    NaN   \n",
       "1      NaN                                                NaN    NaN   \n",
       "2      NaN                                                NaN    NaN   \n",
       "3      NaN  MWF: 6AM-7AM; Sat: 430PM-530PM (except after 1...    NaN   \n",
       "4      NaN                                                NaN    NaN   \n",
       "..     ...                                                ...    ...   \n",
       "676    NaN                                                NaN    NaN   \n",
       "677    NaN                                                NaN    NaN   \n",
       "678    NaN                                                NaN    NaN   \n",
       "679    NaN                                                NaN    NaN   \n",
       "680    NaN                                                NaN    NaN   \n",
       "\n",
       "                            additional info              last update  \\\n",
       "0                                       NaN  Sun Jun 4, 2023 12:17PM   \n",
       "1                                       NaN  Sun Jun 4, 2023 12:20PM   \n",
       "2                                       NaN   Sun Jun 4, 2023 2:06PM   \n",
       "3                                       NaN  Sun Jun 4, 2023 12:28PM   \n",
       "4                                       NaN  Sun Jun 4, 2023 12:33PM   \n",
       "..                                      ...                      ...   \n",
       "676  Eucharistic Hour every Thursday at 8PM  Fri Sep 29, 2023 9:13PM   \n",
       "677                                     NaN   Mon May 1, 2023 8:57PM   \n",
       "678                                     NaN  Mon May 1, 2023 10:38PM   \n",
       "679                                     NaN  Fri Sep 29, 2023 9:03PM   \n",
       "680                                     NaN  Sun Jul 7, 2024 10:15PM   \n",
       "\n",
       "                                             coords        long        lat  \n",
       "0           {'lat': 15.1416878, 'lng': 120.5909457}  120.590946  15.141688  \n",
       "1           {'lat': 15.1614718, 'lng': 120.6113599}  120.611360  15.161472  \n",
       "2           {'lat': 15.1670159, 'lng': 120.4898564}  120.489856  15.167016  \n",
       "3           {'lat': 15.1322054, 'lng': 120.5931786}  120.593179  15.132205  \n",
       "4           {'lat': 15.1504415, 'lng': 120.5960318}  120.596032  15.150441  \n",
       "..                                              ...         ...        ...  \n",
       "676          {'lat': 6.9179516, 'lng': 122.0900869}  122.090087   6.917952  \n",
       "677          {'lat': 6.9067735, 'lng': 122.0780309}  122.078031   6.906773  \n",
       "678  {'lat': 6.945071599999999, 'lng': 122.0525894}  122.052589   6.945072  \n",
       "679  {'lat': 7.205373899999999, 'lng': 122.2284513}  122.228451   7.205374  \n",
       "680          {'lat': 6.9081949, 'lng': 122.0756863}  122.075686   6.908195  \n",
       "\n",
       "[681 rows x 12 columns]"
      ]
     },
     "execution_count": 7,
     "metadata": {},
     "output_type": "execute_result"
    }
   ],
   "source": [
    "churches"
   ]
  },
  {
   "cell_type": "code",
   "execution_count": 8,
   "metadata": {
    "id": "SCCFsKpI_G-G"
   },
   "outputs": [],
   "source": [
    "sample_address = 'Skyway Twin Towers Condominium Capt. Javier st. Brgy Oranbo Pasig city'\n",
    "search_range = 10\n",
    "target_sched = '6:00 PM'\n",
    "current_datetime = datetime.datetime.now()"
   ]
  },
  {
   "cell_type": "code",
   "execution_count": 20,
   "metadata": {
    "id": "DO8djQid96qu"
   },
   "outputs": [
    {
     "name": "stderr",
     "output_type": "stream",
     "text": [
      "/mnt/g/Side Projects/the-narrow-gate/narrow-gate/narrow_gate/src/utils/finder.py:47: SettingWithCopyWarning:\n",
      "\n",
      "\n",
      "A value is trying to be set on a copy of a slice from a DataFrame\n",
      "\n",
      "See the caveats in the documentation: https://pandas.pydata.org/pandas-docs/stable/user_guide/indexing.html#returning-a-view-versus-a-copy\n",
      "\n"
     ]
    },
    {
     "name": "stdout",
     "output_type": "stream",
     "text": [
      "(57, 13)\n",
      "6:00 PM\n",
      "['8:00 AM' '5:30 PM' '5:00 AM' '6:30 AM' '9:30 AM' '11:00 AM' '12:30 PM'\n",
      " '2:00 PM' '3:30 PM' '5:00 PM' '6:30 PM' '8:30 AM' '6:00 PM' '7:00 AM'\n",
      " '5:30 AM' '10:00 AM' '3:00 PM' '4:30 PM' '7:30 PM' '6:00 AM' '7:00 PM'\n",
      " '9:00 AM' '7:30 AM' '4:00 PM' '6:15 AM' '5:15 PM' '7:15 AM' '12:15 PM'\n",
      " '10:30 AM' '8:45 AM' '12:00 PM' '1:15 PM' '2:30 PM' '3:45 PM' '6:15 PM'\n",
      " '9:45 AM' '4:15 PM' '6:45 PM' '11:30 AM' '1:00 PM' '7:45 AM' '2:45 PM'\n",
      " '5:15 AM' '8:30 PM' '6:45 AM' '9:00 PM' '4:15 AM' '5:45 AM' '9:15 AM'\n",
      " '8:00 PM' '5:45 PM' '7:45 PM' '4:30 AM' '1:30 PM' '10:45 AM' '7:15 PM'\n",
      " '8:15 AM' '2:15 PM' '4:45 PM' '11:45 AM' '4:45 AM' '8:15 PM' '10:15 AM'\n",
      " '11:15 AM' '5:50 AM' '4:00 AM' '12:10 PM' '6:25 AM' '7:50 AM' '3:15 PM'\n",
      " '12:00 AM']\n",
      "6:00 PM\n",
      "(26, 9)\n"
     ]
    },
    {
     "name": "stderr",
     "output_type": "stream",
     "text": [
      "/mnt/g/Side Projects/the-narrow-gate/narrow-gate/narrow_gate/src/utils/finder.py:69: FutureWarning:\n",
      "\n",
      "Downcasting behavior in `replace` is deprecated and will be removed in a future version. To retain the old behavior, explicitly call `result.infer_objects(copy=False)`. To opt-in to the future behavior, set `pd.set_option('future.no_silent_downcasting', True)`\n",
      "\n",
      "/mnt/g/Side Projects/the-narrow-gate/narrow-gate/narrow_gate/src/utils/finder.py:69: SettingWithCopyWarning:\n",
      "\n",
      "\n",
      "A value is trying to be set on a copy of a slice from a DataFrame.\n",
      "Try using .loc[row_indexer,col_indexer] = value instead\n",
      "\n",
      "See the caveats in the documentation: https://pandas.pydata.org/pandas-docs/stable/user_guide/indexing.html#returning-a-view-versus-a-copy\n",
      "\n"
     ]
    },
    {
     "data": {
      "application/vnd.plotly.v1+json": {
       "config": {
        "plotlyServerURL": "https://plot.ly"
       },
       "data": [
        {
         "hovertemplate": "<b>%{hovertext}</b><br><br>church_name=%{text}<br>lat=%{lat}<br>long=%{lon}<extra></extra>",
         "hovertext": [
          "Sta. Rosa de Lima Parish",
          "Sta. Teresita Parish",
          "Mater Dolorosa Parish",
          "Mary Queen of Peace Shrine (EDSA Shrine)",
          "St. Gabriel the Archangel Chapel"
         ],
         "lat": [
          14.5666298,
          14.5592198,
          14.5539048,
          14.5929003,
          14.5565479
         ],
         "legendgroup": "",
         "lon": [
          121.0712477,
          121.0626459,
          121.0619597,
          121.0589506,
          121.054103
         ],
         "marker": {
          "color": "#000001"
         },
         "mode": "markers+text",
         "name": "",
         "showlegend": false,
         "subplot": "map",
         "text": [
          "Sta. Rosa de Lima Parish",
          "Sta. Teresita Parish",
          "Mater Dolorosa Parish",
          "Mary Queen of Peace Shrine (EDSA Shrine)",
          "St. Gabriel the Archangel Chapel"
         ],
         "type": "scattermap"
        },
        {
         "lat": [
          14.5737176
         ],
         "lon": [
          121.0667718
         ],
         "name": "my location",
         "type": "scattermap"
        }
       ],
       "layout": {
        "legend": {
         "tracegroupgap": 0
        },
        "map": {
         "center": {
          "lat": 14.56584052,
          "lon": 121.06178138
         },
         "domain": {
          "x": [
           0,
           1
          ],
          "y": [
           0,
           1
          ]
         },
         "zoom": 8
        },
        "mapbox": {
         "center": {
          "lat": 14.56584052,
          "lon": 121.06178138
         },
         "zoom": 8
        },
        "margin": {
         "t": 60
        },
        "template": {
         "data": {
          "candlestick": [
           {
            "decreasing": {
             "line": {
              "color": "#000033"
             }
            },
            "increasing": {
             "line": {
              "color": "#000032"
             }
            },
            "type": "candlestick"
           }
          ],
          "contour": [
           {
            "colorscale": [
             [
              0,
              "#000011"
             ],
             [
              0.1111111111111111,
              "#000012"
             ],
             [
              0.2222222222222222,
              "#000013"
             ],
             [
              0.3333333333333333,
              "#000014"
             ],
             [
              0.4444444444444444,
              "#000015"
             ],
             [
              0.5555555555555556,
              "#000016"
             ],
             [
              0.6666666666666666,
              "#000017"
             ],
             [
              0.7777777777777778,
              "#000018"
             ],
             [
              0.8888888888888888,
              "#000019"
             ],
             [
              1,
              "#000020"
             ]
            ],
            "type": "contour"
           }
          ],
          "contourcarpet": [
           {
            "colorscale": [
             [
              0,
              "#000011"
             ],
             [
              0.1111111111111111,
              "#000012"
             ],
             [
              0.2222222222222222,
              "#000013"
             ],
             [
              0.3333333333333333,
              "#000014"
             ],
             [
              0.4444444444444444,
              "#000015"
             ],
             [
              0.5555555555555556,
              "#000016"
             ],
             [
              0.6666666666666666,
              "#000017"
             ],
             [
              0.7777777777777778,
              "#000018"
             ],
             [
              0.8888888888888888,
              "#000019"
             ],
             [
              1,
              "#000020"
             ]
            ],
            "type": "contourcarpet"
           }
          ],
          "heatmap": [
           {
            "colorscale": [
             [
              0,
              "#000011"
             ],
             [
              0.1111111111111111,
              "#000012"
             ],
             [
              0.2222222222222222,
              "#000013"
             ],
             [
              0.3333333333333333,
              "#000014"
             ],
             [
              0.4444444444444444,
              "#000015"
             ],
             [
              0.5555555555555556,
              "#000016"
             ],
             [
              0.6666666666666666,
              "#000017"
             ],
             [
              0.7777777777777778,
              "#000018"
             ],
             [
              0.8888888888888888,
              "#000019"
             ],
             [
              1,
              "#000020"
             ]
            ],
            "type": "heatmap"
           }
          ],
          "histogram2d": [
           {
            "colorscale": [
             [
              0,
              "#000011"
             ],
             [
              0.1111111111111111,
              "#000012"
             ],
             [
              0.2222222222222222,
              "#000013"
             ],
             [
              0.3333333333333333,
              "#000014"
             ],
             [
              0.4444444444444444,
              "#000015"
             ],
             [
              0.5555555555555556,
              "#000016"
             ],
             [
              0.6666666666666666,
              "#000017"
             ],
             [
              0.7777777777777778,
              "#000018"
             ],
             [
              0.8888888888888888,
              "#000019"
             ],
             [
              1,
              "#000020"
             ]
            ],
            "type": "histogram2d"
           }
          ],
          "icicle": [
           {
            "textfont": {
             "color": "white"
            },
            "type": "icicle"
           }
          ],
          "sankey": [
           {
            "textfont": {
             "color": "#000036"
            },
            "type": "sankey"
           }
          ],
          "scatter": [
           {
            "marker": {
             "line": {
              "width": 0
             }
            },
            "type": "scatter"
           }
          ],
          "table": [
           {
            "cells": {
             "fill": {
              "color": "#000038"
             },
             "font": {
              "color": "#000037"
             },
             "line": {
              "color": "#000039"
             }
            },
            "header": {
             "fill": {
              "color": "#000040"
             },
             "font": {
              "color": "#000036"
             },
             "line": {
              "color": "#000039"
             }
            },
            "type": "table"
           }
          ],
          "waterfall": [
           {
            "connector": {
             "line": {
              "color": "#000036",
              "width": 2
             }
            },
            "decreasing": {
             "marker": {
              "color": "#000033"
             }
            },
            "increasing": {
             "marker": {
              "color": "#000032"
             }
            },
            "totals": {
             "marker": {
              "color": "#000034"
             }
            },
            "type": "waterfall"
           }
          ]
         },
         "layout": {
          "coloraxis": {
           "colorscale": [
            [
             0,
             "#000011"
            ],
            [
             0.1111111111111111,
             "#000012"
            ],
            [
             0.2222222222222222,
             "#000013"
            ],
            [
             0.3333333333333333,
             "#000014"
            ],
            [
             0.4444444444444444,
             "#000015"
            ],
            [
             0.5555555555555556,
             "#000016"
            ],
            [
             0.6666666666666666,
             "#000017"
            ],
            [
             0.7777777777777778,
             "#000018"
            ],
            [
             0.8888888888888888,
             "#000019"
            ],
            [
             1,
             "#000020"
            ]
           ]
          },
          "colorscale": {
           "diverging": [
            [
             0,
             "#000021"
            ],
            [
             0.1,
             "#000022"
            ],
            [
             0.2,
             "#000023"
            ],
            [
             0.3,
             "#000024"
            ],
            [
             0.4,
             "#000025"
            ],
            [
             0.5,
             "#000026"
            ],
            [
             0.6,
             "#000027"
            ],
            [
             0.7,
             "#000028"
            ],
            [
             0.8,
             "#000029"
            ],
            [
             0.9,
             "#000030"
            ],
            [
             1,
             "#000031"
            ]
           ],
           "sequential": [
            [
             0,
             "#000011"
            ],
            [
             0.1111111111111111,
             "#000012"
            ],
            [
             0.2222222222222222,
             "#000013"
            ],
            [
             0.3333333333333333,
             "#000014"
            ],
            [
             0.4444444444444444,
             "#000015"
            ],
            [
             0.5555555555555556,
             "#000016"
            ],
            [
             0.6666666666666666,
             "#000017"
            ],
            [
             0.7777777777777778,
             "#000018"
            ],
            [
             0.8888888888888888,
             "#000019"
            ],
            [
             1,
             "#000020"
            ]
           ],
           "sequentialminus": [
            [
             0,
             "#000011"
            ],
            [
             0.1111111111111111,
             "#000012"
            ],
            [
             0.2222222222222222,
             "#000013"
            ],
            [
             0.3333333333333333,
             "#000014"
            ],
            [
             0.4444444444444444,
             "#000015"
            ],
            [
             0.5555555555555556,
             "#000016"
            ],
            [
             0.6666666666666666,
             "#000017"
            ],
            [
             0.7777777777777778,
             "#000018"
            ],
            [
             0.8888888888888888,
             "#000019"
            ],
            [
             1,
             "#000020"
            ]
           ]
          },
          "colorway": [
           "#000001",
           "#000002",
           "#000003",
           "#000004",
           "#000005",
           "#000006",
           "#000007",
           "#000008",
           "#000009",
           "#000010"
          ]
         }
        }
       }
      },
      "text/html": [
       "<div>                            <div id=\"7f233c0a-d419-4f74-989c-bf883bc8bc40\" class=\"plotly-graph-div\" style=\"height:525px; width:100%;\"></div>            <script type=\"text/javascript\">                require([\"plotly\"], function(Plotly) {                    window.PLOTLYENV=window.PLOTLYENV || {};                                    if (document.getElementById(\"7f233c0a-d419-4f74-989c-bf883bc8bc40\")) {                    Plotly.newPlot(                        \"7f233c0a-d419-4f74-989c-bf883bc8bc40\",                        [{\"hovertemplate\":\"\\u003cb\\u003e%{hovertext}\\u003c\\u002fb\\u003e\\u003cbr\\u003e\\u003cbr\\u003echurch_name=%{text}\\u003cbr\\u003elat=%{lat}\\u003cbr\\u003elong=%{lon}\\u003cextra\\u003e\\u003c\\u002fextra\\u003e\",\"hovertext\":[\"Sta. Rosa de Lima Parish\",\"Sta. Teresita Parish\",\"Mater Dolorosa Parish\",\"Mary Queen of Peace Shrine (EDSA Shrine)\",\"St. Gabriel the Archangel Chapel\"],\"lat\":[14.5666298,14.5592198,14.5539048,14.5929003,14.5565479],\"legendgroup\":\"\",\"lon\":[121.0712477,121.0626459,121.0619597,121.0589506,121.054103],\"marker\":{\"color\":\"#000001\"},\"mode\":\"markers+text\",\"name\":\"\",\"showlegend\":false,\"subplot\":\"map\",\"text\":[\"Sta. Rosa de Lima Parish\",\"Sta. Teresita Parish\",\"Mater Dolorosa Parish\",\"Mary Queen of Peace Shrine (EDSA Shrine)\",\"St. Gabriel the Archangel Chapel\"],\"type\":\"scattermap\"},{\"lat\":[14.5737176],\"lon\":[121.0667718],\"name\":\"my location\",\"type\":\"scattermap\"}],                        {\"template\":{\"data\":{\"candlestick\":[{\"decreasing\":{\"line\":{\"color\":\"#000033\"}},\"increasing\":{\"line\":{\"color\":\"#000032\"}},\"type\":\"candlestick\"}],\"contourcarpet\":[{\"colorscale\":[[0.0,\"#000011\"],[0.1111111111111111,\"#000012\"],[0.2222222222222222,\"#000013\"],[0.3333333333333333,\"#000014\"],[0.4444444444444444,\"#000015\"],[0.5555555555555556,\"#000016\"],[0.6666666666666666,\"#000017\"],[0.7777777777777778,\"#000018\"],[0.8888888888888888,\"#000019\"],[1.0,\"#000020\"]],\"type\":\"contourcarpet\"}],\"contour\":[{\"colorscale\":[[0.0,\"#000011\"],[0.1111111111111111,\"#000012\"],[0.2222222222222222,\"#000013\"],[0.3333333333333333,\"#000014\"],[0.4444444444444444,\"#000015\"],[0.5555555555555556,\"#000016\"],[0.6666666666666666,\"#000017\"],[0.7777777777777778,\"#000018\"],[0.8888888888888888,\"#000019\"],[1.0,\"#000020\"]],\"type\":\"contour\"}],\"heatmap\":[{\"colorscale\":[[0.0,\"#000011\"],[0.1111111111111111,\"#000012\"],[0.2222222222222222,\"#000013\"],[0.3333333333333333,\"#000014\"],[0.4444444444444444,\"#000015\"],[0.5555555555555556,\"#000016\"],[0.6666666666666666,\"#000017\"],[0.7777777777777778,\"#000018\"],[0.8888888888888888,\"#000019\"],[1.0,\"#000020\"]],\"type\":\"heatmap\"}],\"histogram2d\":[{\"colorscale\":[[0.0,\"#000011\"],[0.1111111111111111,\"#000012\"],[0.2222222222222222,\"#000013\"],[0.3333333333333333,\"#000014\"],[0.4444444444444444,\"#000015\"],[0.5555555555555556,\"#000016\"],[0.6666666666666666,\"#000017\"],[0.7777777777777778,\"#000018\"],[0.8888888888888888,\"#000019\"],[1.0,\"#000020\"]],\"type\":\"histogram2d\"}],\"icicle\":[{\"textfont\":{\"color\":\"white\"},\"type\":\"icicle\"}],\"sankey\":[{\"textfont\":{\"color\":\"#000036\"},\"type\":\"sankey\"}],\"scatter\":[{\"marker\":{\"line\":{\"width\":0}},\"type\":\"scatter\"}],\"table\":[{\"cells\":{\"fill\":{\"color\":\"#000038\"},\"font\":{\"color\":\"#000037\"},\"line\":{\"color\":\"#000039\"}},\"header\":{\"fill\":{\"color\":\"#000040\"},\"font\":{\"color\":\"#000036\"},\"line\":{\"color\":\"#000039\"}},\"type\":\"table\"}],\"waterfall\":[{\"connector\":{\"line\":{\"color\":\"#000036\",\"width\":2}},\"decreasing\":{\"marker\":{\"color\":\"#000033\"}},\"increasing\":{\"marker\":{\"color\":\"#000032\"}},\"totals\":{\"marker\":{\"color\":\"#000034\"}},\"type\":\"waterfall\"}]},\"layout\":{\"coloraxis\":{\"colorscale\":[[0.0,\"#000011\"],[0.1111111111111111,\"#000012\"],[0.2222222222222222,\"#000013\"],[0.3333333333333333,\"#000014\"],[0.4444444444444444,\"#000015\"],[0.5555555555555556,\"#000016\"],[0.6666666666666666,\"#000017\"],[0.7777777777777778,\"#000018\"],[0.8888888888888888,\"#000019\"],[1.0,\"#000020\"]]},\"colorscale\":{\"diverging\":[[0.0,\"#000021\"],[0.1,\"#000022\"],[0.2,\"#000023\"],[0.3,\"#000024\"],[0.4,\"#000025\"],[0.5,\"#000026\"],[0.6,\"#000027\"],[0.7,\"#000028\"],[0.8,\"#000029\"],[0.9,\"#000030\"],[1.0,\"#000031\"]],\"sequential\":[[0.0,\"#000011\"],[0.1111111111111111,\"#000012\"],[0.2222222222222222,\"#000013\"],[0.3333333333333333,\"#000014\"],[0.4444444444444444,\"#000015\"],[0.5555555555555556,\"#000016\"],[0.6666666666666666,\"#000017\"],[0.7777777777777778,\"#000018\"],[0.8888888888888888,\"#000019\"],[1.0,\"#000020\"]],\"sequentialminus\":[[0.0,\"#000011\"],[0.1111111111111111,\"#000012\"],[0.2222222222222222,\"#000013\"],[0.3333333333333333,\"#000014\"],[0.4444444444444444,\"#000015\"],[0.5555555555555556,\"#000016\"],[0.6666666666666666,\"#000017\"],[0.7777777777777778,\"#000018\"],[0.8888888888888888,\"#000019\"],[1.0,\"#000020\"]]},\"colorway\":[\"#000001\",\"#000002\",\"#000003\",\"#000004\",\"#000005\",\"#000006\",\"#000007\",\"#000008\",\"#000009\",\"#000010\"]}},\"map\":{\"domain\":{\"x\":[0.0,1.0],\"y\":[0.0,1.0]},\"center\":{\"lat\":14.56584052,\"lon\":121.06178138},\"zoom\":8},\"legend\":{\"tracegroupgap\":0},\"margin\":{\"t\":60},\"mapbox\":{\"center\":{\"lat\":14.56584052,\"lon\":121.06178138},\"zoom\":8}},                        {\"responsive\": true}                    ).then(function(){\n",
       "                            \n",
       "var gd = document.getElementById('7f233c0a-d419-4f74-989c-bf883bc8bc40');\n",
       "var x = new MutationObserver(function (mutations, observer) {{\n",
       "        var display = window.getComputedStyle(gd).display;\n",
       "        if (!display || display === 'none') {{\n",
       "            console.log([gd, 'removed!']);\n",
       "            Plotly.purge(gd);\n",
       "            observer.disconnect();\n",
       "        }}\n",
       "}});\n",
       "\n",
       "// Listen for the removal of the full notebook cells\n",
       "var notebookContainer = gd.closest('#notebook-container');\n",
       "if (notebookContainer) {{\n",
       "    x.observe(notebookContainer, {childList: true});\n",
       "}}\n",
       "\n",
       "// Listen for the clearing of the current output cell\n",
       "var outputEl = gd.closest('.output');\n",
       "if (outputEl) {{\n",
       "    x.observe(outputEl, {childList: true});\n",
       "}}\n",
       "\n",
       "                        })                };                });            </script>        </div>"
      ]
     },
     "metadata": {},
     "output_type": "display_data"
    },
    {
     "data": {
      "text/html": [
       "<div>\n",
       "<style scoped>\n",
       "    .dataframe tbody tr th:only-of-type {\n",
       "        vertical-align: middle;\n",
       "    }\n",
       "\n",
       "    .dataframe tbody tr th {\n",
       "        vertical-align: top;\n",
       "    }\n",
       "\n",
       "    .dataframe thead th {\n",
       "        text-align: right;\n",
       "    }\n",
       "</style>\n",
       "<table border=\"1\" class=\"dataframe\">\n",
       "  <thead>\n",
       "    <tr style=\"text-align: right;\">\n",
       "      <th></th>\n",
       "      <th>Unnamed: 0</th>\n",
       "      <th>day_of_week</th>\n",
       "      <th>schedule</th>\n",
       "      <th>language</th>\n",
       "      <th>comment</th>\n",
       "      <th>church_name</th>\n",
       "      <th>church_address</th>\n",
       "      <th>mass_start</th>\n",
       "      <th>mass_end</th>\n",
       "      <th>Travel Time(Mins)</th>\n",
       "      <th>Arrival Time</th>\n",
       "    </tr>\n",
       "  </thead>\n",
       "  <tbody>\n",
       "    <tr>\n",
       "      <th>6436</th>\n",
       "      <td>11</td>\n",
       "      <td>6.0</td>\n",
       "      <td>6:00 PM - 7:00 PM</td>\n",
       "      <td>NaN</td>\n",
       "      <td>NaN</td>\n",
       "      <td>Sta. Rosa de Lima Parish</td>\n",
       "      <td>San Buenaventura Drive,  Bagong Ilog, Pasig Ci...</td>\n",
       "      <td>6:00 PM</td>\n",
       "      <td>7:00 PM</td>\n",
       "      <td>4.683333</td>\n",
       "      <td>01:51 PM</td>\n",
       "    </tr>\n",
       "    <tr>\n",
       "      <th>7084</th>\n",
       "      <td>24</td>\n",
       "      <td>6.0</td>\n",
       "      <td>6:00 PM - 7:00 PM</td>\n",
       "      <td>NaN</td>\n",
       "      <td>NaN</td>\n",
       "      <td>Mary Queen of Peace Shrine (EDSA Shrine)</td>\n",
       "      <td>EDSA cor. Ortigas Ave, Quezon City, Metro Manila</td>\n",
       "      <td>6:00 PM</td>\n",
       "      <td>7:00 PM</td>\n",
       "      <td>8.383333</td>\n",
       "      <td>01:55 PM</td>\n",
       "    </tr>\n",
       "    <tr>\n",
       "      <th>3279</th>\n",
       "      <td>25</td>\n",
       "      <td>6.0</td>\n",
       "      <td>6:00 PM - 7:00 PM</td>\n",
       "      <td>NaN</td>\n",
       "      <td>NaN</td>\n",
       "      <td>Mater Dolorosa Parish</td>\n",
       "      <td>19th Ave., East Rembo, Makati City, Metro Manila</td>\n",
       "      <td>6:00 PM</td>\n",
       "      <td>7:00 PM</td>\n",
       "      <td>10.050000</td>\n",
       "      <td>01:56 PM</td>\n",
       "    </tr>\n",
       "    <tr>\n",
       "      <th>8510</th>\n",
       "      <td>4</td>\n",
       "      <td>6.0</td>\n",
       "      <td>6:00 PM - 7:00 PM</td>\n",
       "      <td>NaN</td>\n",
       "      <td>NaN</td>\n",
       "      <td>St. Gabriel the Archangel Chapel</td>\n",
       "      <td>4th Flr., Uptown Mall, 36th St. corner 9th Ave...</td>\n",
       "      <td>6:00 PM</td>\n",
       "      <td>7:00 PM</td>\n",
       "      <td>10.700000</td>\n",
       "      <td>01:57 PM</td>\n",
       "    </tr>\n",
       "    <tr>\n",
       "      <th>3630</th>\n",
       "      <td>9</td>\n",
       "      <td>6.0</td>\n",
       "      <td>6:00 PM - 7:00 PM</td>\n",
       "      <td>NaN</td>\n",
       "      <td>NaN</td>\n",
       "      <td>Sta. Teresita Parish</td>\n",
       "      <td>A. Mabini St., West Rembo, Makati City, Metro ...</td>\n",
       "      <td>6:00 PM</td>\n",
       "      <td>7:00 PM</td>\n",
       "      <td>11.250000</td>\n",
       "      <td>01:58 PM</td>\n",
       "    </tr>\n",
       "  </tbody>\n",
       "</table>\n",
       "</div>"
      ],
      "text/plain": [
       "      Unnamed: 0  day_of_week           schedule language comment  \\\n",
       "6436          11          6.0  6:00 PM - 7:00 PM      NaN     NaN   \n",
       "7084          24          6.0  6:00 PM - 7:00 PM      NaN     NaN   \n",
       "3279          25          6.0  6:00 PM - 7:00 PM      NaN     NaN   \n",
       "8510           4          6.0  6:00 PM - 7:00 PM      NaN     NaN   \n",
       "3630           9          6.0  6:00 PM - 7:00 PM      NaN     NaN   \n",
       "\n",
       "                                   church_name  \\\n",
       "6436                  Sta. Rosa de Lima Parish   \n",
       "7084  Mary Queen of Peace Shrine (EDSA Shrine)   \n",
       "3279                     Mater Dolorosa Parish   \n",
       "8510          St. Gabriel the Archangel Chapel   \n",
       "3630                      Sta. Teresita Parish   \n",
       "\n",
       "                                         church_address mass_start mass_end  \\\n",
       "6436  San Buenaventura Drive,  Bagong Ilog, Pasig Ci...    6:00 PM  7:00 PM   \n",
       "7084   EDSA cor. Ortigas Ave, Quezon City, Metro Manila    6:00 PM  7:00 PM   \n",
       "3279   19th Ave., East Rembo, Makati City, Metro Manila    6:00 PM  7:00 PM   \n",
       "8510  4th Flr., Uptown Mall, 36th St. corner 9th Ave...    6:00 PM  7:00 PM   \n",
       "3630  A. Mabini St., West Rembo, Makati City, Metro ...    6:00 PM  7:00 PM   \n",
       "\n",
       "      Travel Time(Mins) Arrival Time  \n",
       "6436           4.683333     01:51 PM  \n",
       "7084           8.383333     01:55 PM  \n",
       "3279          10.050000     01:56 PM  \n",
       "8510          10.700000     01:57 PM  \n",
       "3630          11.250000     01:58 PM  "
      ]
     },
     "execution_count": 20,
     "metadata": {},
     "output_type": "execute_result"
    }
   ],
   "source": [
    "church_results, mass_results = find_mass(churches, masses, sample_address, search_range, target_sched, current_datetime)\n",
    "\n",
    "fig = px.scatter_map(church_results[church_results.church_name.isin(mass_results.church_name)],\n",
    "                     lat=\"lat\",\n",
    "                     lon=\"long\",\n",
    "                     hover_name=\"church_name\", # display church name on hover\n",
    "                     text=\"church_name\",\n",
    "                     )\n",
    "sample_geocode = gmaps.geocode(sample_address)\n",
    "fig.add_scattermap(lon=[sample_geocode[0]['geometry']['location']['lng']],\n",
    "                   lat=[sample_geocode[0]['geometry']['location']['lat']],\n",
    "                   name='my location'\n",
    "                   )\n",
    "\n",
    "fig.show()\n",
    "mass_results"
   ]
  },
  {
   "cell_type": "code",
   "execution_count": 17,
   "metadata": {},
   "outputs": [
    {
     "data": {
      "text/html": [
       "<div>\n",
       "<style scoped>\n",
       "    .dataframe tbody tr th:only-of-type {\n",
       "        vertical-align: middle;\n",
       "    }\n",
       "\n",
       "    .dataframe tbody tr th {\n",
       "        vertical-align: top;\n",
       "    }\n",
       "\n",
       "    .dataframe thead th {\n",
       "        text-align: right;\n",
       "    }\n",
       "</style>\n",
       "<table border=\"1\" class=\"dataframe\">\n",
       "  <thead>\n",
       "    <tr style=\"text-align: right;\">\n",
       "      <th></th>\n",
       "      <th>Unnamed: 0</th>\n",
       "      <th>church_name</th>\n",
       "      <th>address</th>\n",
       "      <th>telephone number</th>\n",
       "      <th>priest</th>\n",
       "      <th>confession</th>\n",
       "      <th>links</th>\n",
       "      <th>additional info</th>\n",
       "      <th>last update</th>\n",
       "      <th>coords</th>\n",
       "      <th>long</th>\n",
       "      <th>lat</th>\n",
       "      <th>relative_dist</th>\n",
       "      <th>Travel Time(mins)</th>\n",
       "    </tr>\n",
       "  </thead>\n",
       "  <tbody>\n",
       "    <tr>\n",
       "      <th>488</th>\n",
       "      <td>13</td>\n",
       "      <td>Sta. Rosa de Lima Parish</td>\n",
       "      <td>San Buenaventura Drive,  Bagong Ilog, Pasig Ci...</td>\n",
       "      <td>288915129</td>\n",
       "      <td>NaN</td>\n",
       "      <td>Friday - 5:30 PM</td>\n",
       "      <td>NaN</td>\n",
       "      <td>NaN</td>\n",
       "      <td>Fri Dec 15, 2023 10:55PM</td>\n",
       "      <td>{'lat': 14.5666298, 'lng': 121.0712477}</td>\n",
       "      <td>121.071248</td>\n",
       "      <td>14.566630</td>\n",
       "      <td>0.920683</td>\n",
       "      <td>4.683333</td>\n",
       "    </tr>\n",
       "    <tr>\n",
       "      <th>306</th>\n",
       "      <td>25</td>\n",
       "      <td>Sta. Teresita Parish</td>\n",
       "      <td>A. Mabini St., West Rembo, Makati City, Metro ...</td>\n",
       "      <td>288815241</td>\n",
       "      <td>NaN</td>\n",
       "      <td>NaN</td>\n",
       "      <td>NaN</td>\n",
       "      <td>NaN</td>\n",
       "      <td>Mon Jun 5, 2023 9:16PM</td>\n",
       "      <td>{'lat': 14.5592198, 'lng': 121.0626459}</td>\n",
       "      <td>121.062646</td>\n",
       "      <td>14.559220</td>\n",
       "      <td>1.664583</td>\n",
       "      <td>11.250000</td>\n",
       "    </tr>\n",
       "    <tr>\n",
       "      <th>321</th>\n",
       "      <td>2</td>\n",
       "      <td>Our Lady of Fatima Parish</td>\n",
       "      <td>Mariveles Street., Highway Hills, Mandaluyong ...</td>\n",
       "      <td>532-8400</td>\n",
       "      <td>NaN</td>\n",
       "      <td>NaN</td>\n",
       "      <td>NaN</td>\n",
       "      <td>NaN</td>\n",
       "      <td>Wed Mar 17, 2010 10:43AM</td>\n",
       "      <td>{'lat': 14.5814993, 'lng': 121.0502427}</td>\n",
       "      <td>121.050243</td>\n",
       "      <td>14.581499</td>\n",
       "      <td>1.978342</td>\n",
       "      <td>14.216667</td>\n",
       "    </tr>\n",
       "    <tr>\n",
       "      <th>302</th>\n",
       "      <td>21</td>\n",
       "      <td>St. John Mary Vianney Parish</td>\n",
       "      <td>Narra St. , Brgy. Cembo, Makati City, Metro Ma...</td>\n",
       "      <td>288815078</td>\n",
       "      <td>NaN</td>\n",
       "      <td>NaN</td>\n",
       "      <td>NaN</td>\n",
       "      <td>NaN</td>\n",
       "      <td>Mon Jun 5, 2023 9:25PM</td>\n",
       "      <td>{'lat': 14.5629377, 'lng': 121.0517217}</td>\n",
       "      <td>121.051722</td>\n",
       "      <td>14.562938</td>\n",
       "      <td>2.013209</td>\n",
       "      <td>12.466667</td>\n",
       "    </tr>\n",
       "    <tr>\n",
       "      <th>481</th>\n",
       "      <td>6</td>\n",
       "      <td>San Guillermo Parish</td>\n",
       "      <td>103 E. Mendoza St., Buting, Pasig City, Metro ...</td>\n",
       "      <td>(632) 642-8051</td>\n",
       "      <td>Fr. Bebot Catuiran</td>\n",
       "      <td>30 minutes before the mass; during Holy Hour o...</td>\n",
       "      <td>NaN</td>\n",
       "      <td>NaN</td>\n",
       "      <td>Sun Oct 20, 2013 1:52PM</td>\n",
       "      <td>{'lat': 14.5550453, 'lng': 121.0669212}</td>\n",
       "      <td>121.066921</td>\n",
       "      <td>14.555045</td>\n",
       "      <td>2.066051</td>\n",
       "      <td>13.350000</td>\n",
       "    </tr>\n",
       "    <tr>\n",
       "      <th>288</th>\n",
       "      <td>7</td>\n",
       "      <td>Mater Dolorosa Parish</td>\n",
       "      <td>19th Ave., East Rembo, Makati City, Metro Manila</td>\n",
       "      <td>757-5704</td>\n",
       "      <td>Fr. Joel Mosura, TC</td>\n",
       "      <td>Weekdays 5:30 p.m. - 6:00 p.m. , Sat and Sun 5...</td>\n",
       "      <td>NaN</td>\n",
       "      <td>NaN</td>\n",
       "      <td>Wed Sep 4, 2013 1:46PM</td>\n",
       "      <td>{'lat': 14.5539048, 'lng': 121.0619597}</td>\n",
       "      <td>121.061960</td>\n",
       "      <td>14.553905</td>\n",
       "      <td>2.252680</td>\n",
       "      <td>10.050000</td>\n",
       "    </tr>\n",
       "    <tr>\n",
       "      <th>541</th>\n",
       "      <td>32</td>\n",
       "      <td>Mary Queen of Peace Shrine (EDSA Shrine)</td>\n",
       "      <td>EDSA cor. Ortigas Ave, Quezon City, Metro Manila</td>\n",
       "      <td>0998 552 5309, (+632) 8631 5734, 8637 0295</td>\n",
       "      <td>NaN</td>\n",
       "      <td>Upon request</td>\n",
       "      <td>NaN</td>\n",
       "      <td>NaN</td>\n",
       "      <td>Thu Dec 14, 2023 5:35PM</td>\n",
       "      <td>{'lat': 14.5929003, 'lng': 121.0589506}</td>\n",
       "      <td>121.058951</td>\n",
       "      <td>14.592900</td>\n",
       "      <td>2.283667</td>\n",
       "      <td>8.383333</td>\n",
       "    </tr>\n",
       "    <tr>\n",
       "      <th>479</th>\n",
       "      <td>4</td>\n",
       "      <td>San Agustin Parish</td>\n",
       "      <td>Market Ave., Barangay Palatiw, Pasig City, Met...</td>\n",
       "      <td>286401319</td>\n",
       "      <td>Rev. Fr. Emmanuel Judilla, O.A.D</td>\n",
       "      <td>NaN</td>\n",
       "      <td>NaN</td>\n",
       "      <td>NaN</td>\n",
       "      <td>Wed Dec 14, 2022 10:23PM</td>\n",
       "      <td>{'lat': 14.5630345, 'lng': 121.0849293}</td>\n",
       "      <td>121.084929</td>\n",
       "      <td>14.563035</td>\n",
       "      <td>2.286023</td>\n",
       "      <td>12.050000</td>\n",
       "    </tr>\n",
       "    <tr>\n",
       "      <th>633</th>\n",
       "      <td>9</td>\n",
       "      <td>St. Gabriel the Archangel Chapel</td>\n",
       "      <td>4th Flr., Uptown Mall, 36th St. corner 9th Ave...</td>\n",
       "      <td>NaN</td>\n",
       "      <td>NaN</td>\n",
       "      <td>NaN</td>\n",
       "      <td>NaN</td>\n",
       "      <td>Simbang Gabi: December 15-23 6:00PM</td>\n",
       "      <td>Sun Mar 13, 2022 8:11PM</td>\n",
       "      <td>{'lat': 14.5565479, 'lng': 121.054103}</td>\n",
       "      <td>121.054103</td>\n",
       "      <td>14.556548</td>\n",
       "      <td>2.339422</td>\n",
       "      <td>10.700000</td>\n",
       "    </tr>\n",
       "    <tr>\n",
       "      <th>492</th>\n",
       "      <td>17</td>\n",
       "      <td>The Medical City</td>\n",
       "      <td>Ortigas Avenue, Pasig City, Metro Manila</td>\n",
       "      <td>NaN</td>\n",
       "      <td>NaN</td>\n",
       "      <td>11:00 am daily</td>\n",
       "      <td>NaN</td>\n",
       "      <td>NaN</td>\n",
       "      <td>Sat May 25, 2013 5:11PM</td>\n",
       "      <td>{'lat': 14.5901598, 'lng': 121.0818858}</td>\n",
       "      <td>121.081886</td>\n",
       "      <td>14.590160</td>\n",
       "      <td>2.441739</td>\n",
       "      <td>12.550000</td>\n",
       "    </tr>\n",
       "    <tr>\n",
       "      <th>289</th>\n",
       "      <td>8</td>\n",
       "      <td>National Shrine of Our Lady of Guadalupe</td>\n",
       "      <td>1923 Orense St. , Guadalupe Nuevo, Makati City...</td>\n",
       "      <td>88821814</td>\n",
       "      <td>NaN</td>\n",
       "      <td>Mon-Sat: 11AM-12NN and 5:30PM-6:30PM, Sun: 30 ...</td>\n",
       "      <td>NaN</td>\n",
       "      <td>NaN</td>\n",
       "      <td>Sun Dec 17, 2023 7:32AM</td>\n",
       "      <td>{'lat': 14.5615541, 'lng': 121.0454919}</td>\n",
       "      <td>121.045492</td>\n",
       "      <td>14.561554</td>\n",
       "      <td>2.658947</td>\n",
       "      <td>14.133333</td>\n",
       "    </tr>\n",
       "    <tr>\n",
       "      <th>324</th>\n",
       "      <td>5</td>\n",
       "      <td>San Felipe Neri Parish</td>\n",
       "      <td>Boni Avenue, Mandaluyong City, Metro Manila</td>\n",
       "      <td>531-2931</td>\n",
       "      <td>NaN</td>\n",
       "      <td>NaN</td>\n",
       "      <td>NaN</td>\n",
       "      <td>Simbang Gabi: December 15-23 7:30PM and 9:00PM</td>\n",
       "      <td>Sun Dec 12, 2021 9:06AM</td>\n",
       "      <td>{'lat': 14.5764033, 'lng': 121.0385516}</td>\n",
       "      <td>121.038552</td>\n",
       "      <td>14.576403</td>\n",
       "      <td>3.055491</td>\n",
       "      <td>15.516667</td>\n",
       "    </tr>\n",
       "    <tr>\n",
       "      <th>482</th>\n",
       "      <td>7</td>\n",
       "      <td>San Sebastian Parish</td>\n",
       "      <td>M.H. Del Pilar St., Barangay Pinagbuhatan, Pas...</td>\n",
       "      <td>284770044</td>\n",
       "      <td>Rev. Fr. Feliciano R Gutierrez</td>\n",
       "      <td>NaN</td>\n",
       "      <td>NaN</td>\n",
       "      <td>NaN</td>\n",
       "      <td>Thu Dec 22, 2022 7:29PM</td>\n",
       "      <td>{'lat': 14.5571675, 'lng': 121.0909313}</td>\n",
       "      <td>121.090931</td>\n",
       "      <td>14.557168</td>\n",
       "      <td>3.183022</td>\n",
       "      <td>16.833333</td>\n",
       "    </tr>\n",
       "    <tr>\n",
       "      <th>296</th>\n",
       "      <td>15</td>\n",
       "      <td>Sacred Heart of Jesus Chapel (Power Plant Mall...</td>\n",
       "      <td>Rockwell Drive corner Estrella Street, Makati ...</td>\n",
       "      <td>0917 884 3606</td>\n",
       "      <td>NaN</td>\n",
       "      <td>Sat: 4-6PM</td>\n",
       "      <td>NaN</td>\n",
       "      <td>NaN</td>\n",
       "      <td>Thu Dec 14, 2023 8:20PM</td>\n",
       "      <td>{'lat': 14.5629736, 'lng': 121.0390755}</td>\n",
       "      <td>121.039075</td>\n",
       "      <td>14.562974</td>\n",
       "      <td>3.212670</td>\n",
       "      <td>17.050000</td>\n",
       "    </tr>\n",
       "    <tr>\n",
       "      <th>303</th>\n",
       "      <td>22</td>\n",
       "      <td>St. John of the Cross Parish</td>\n",
       "      <td>Catholic Rectory, 9 Hasmin St . PEMBO, Makati ...</td>\n",
       "      <td>728-7316</td>\n",
       "      <td>NaN</td>\n",
       "      <td>NaN</td>\n",
       "      <td>NaN</td>\n",
       "      <td>Youth Mass: Every 4th Sunday of the Month at 6...</td>\n",
       "      <td>Mon May 9, 2016 10:04PM</td>\n",
       "      <td>{'lat': 14.572631, 'lng': 121.0357821}</td>\n",
       "      <td>121.035782</td>\n",
       "      <td>14.572631</td>\n",
       "      <td>3.341640</td>\n",
       "      <td>20.300000</td>\n",
       "    </tr>\n",
       "    <tr>\n",
       "      <th>624</th>\n",
       "      <td>0</td>\n",
       "      <td>Chapel of San Pedro Calungsod</td>\n",
       "      <td>SM Aura Premiere, Bonifacio Global City, Tagui...</td>\n",
       "      <td>284033372</td>\n",
       "      <td>NaN</td>\n",
       "      <td>Mon-Fri: 3-6PM</td>\n",
       "      <td>NaN</td>\n",
       "      <td>NaN</td>\n",
       "      <td>Sat Dec 10, 2022 1:03PM</td>\n",
       "      <td>{'lat': 14.546001, 'lng': 121.053927}</td>\n",
       "      <td>121.053927</td>\n",
       "      <td>14.546001</td>\n",
       "      <td>3.364629</td>\n",
       "      <td>12.316667</td>\n",
       "    </tr>\n",
       "    <tr>\n",
       "      <th>319</th>\n",
       "      <td>0</td>\n",
       "      <td>Archdiocesan Shrine of the Divine Mercy</td>\n",
       "      <td>Maysilo Circle, Boni Ave, Mandaluyong City, Me...</td>\n",
       "      <td>531-4598</td>\n",
       "      <td>Msgr. Alberto G. Salonga, Jr. (Rector)</td>\n",
       "      <td>Sunday: 6 AM - 12:30 PM, 3 PM - 6 PM</td>\n",
       "      <td>NaN</td>\n",
       "      <td>NaN</td>\n",
       "      <td>Thu Aug 25, 2016 9:11PM</td>\n",
       "      <td>{'lat': 14.5767525, 'lng': 121.0347989}</td>\n",
       "      <td>121.034799</td>\n",
       "      <td>14.576752</td>\n",
       "      <td>3.461720</td>\n",
       "      <td>16.800000</td>\n",
       "    </tr>\n",
       "    <tr>\n",
       "      <th>308</th>\n",
       "      <td>27</td>\n",
       "      <td>Sts. Peter and Paul Parish</td>\n",
       "      <td>5539 D. M. Rivera St. , Poblacion, Makati City...</td>\n",
       "      <td>288993285</td>\n",
       "      <td>NaN</td>\n",
       "      <td>NaN</td>\n",
       "      <td>NaN</td>\n",
       "      <td>NaN</td>\n",
       "      <td>Mon Jun 5, 2023 8:45PM</td>\n",
       "      <td>{'lat': 14.5658842, 'lng': 121.0313917}</td>\n",
       "      <td>121.031392</td>\n",
       "      <td>14.565884</td>\n",
       "      <td>3.909922</td>\n",
       "      <td>18.416667</td>\n",
       "    </tr>\n",
       "    <tr>\n",
       "      <th>570</th>\n",
       "      <td>61</td>\n",
       "      <td>Saint John Paul II Parish</td>\n",
       "      <td>Orchard Road, Eastwood City, E. Rodriguez Jr. ...</td>\n",
       "      <td>(02)86356732</td>\n",
       "      <td>NaN</td>\n",
       "      <td>Available after the noon Mass, Monday to Satur...</td>\n",
       "      <td>NaN</td>\n",
       "      <td>NaN</td>\n",
       "      <td>Fri Aug 2, 2024 12:43AM</td>\n",
       "      <td>{'lat': 14.6096463, 'lng': 121.0796001}</td>\n",
       "      <td>121.079600</td>\n",
       "      <td>14.609646</td>\n",
       "      <td>4.208785</td>\n",
       "      <td>15.450000</td>\n",
       "    </tr>\n",
       "    <tr>\n",
       "      <th>298</th>\n",
       "      <td>17</td>\n",
       "      <td>Santuario de San Antonio</td>\n",
       "      <td>McKinley Road, Forbes Park, Makati City, Metro...</td>\n",
       "      <td>02)8843-8830, (02)8843-8831, (02)8843-8832</td>\n",
       "      <td>NaN</td>\n",
       "      <td>Daily: 5-6PM at St. Bernardine Room</td>\n",
       "      <td>NaN</td>\n",
       "      <td>Village Masses:</td>\n",
       "      <td>Sat Aug 6, 2022 3:32PM</td>\n",
       "      <td>{'lat': 14.5474806, 'lng': 121.0379064}</td>\n",
       "      <td>121.037906</td>\n",
       "      <td>14.547481</td>\n",
       "      <td>4.254876</td>\n",
       "      <td>19.483333</td>\n",
       "    </tr>\n",
       "    <tr>\n",
       "      <th>485</th>\n",
       "      <td>10</td>\n",
       "      <td>St. Jude Thaddeus Parish</td>\n",
       "      <td>Michael Raymond St., Marietta Romeo Village, B...</td>\n",
       "      <td>+6386557511</td>\n",
       "      <td>NaN</td>\n",
       "      <td>NaN</td>\n",
       "      <td>NaN</td>\n",
       "      <td>Narito po ang ating talaan ng mga Misa ngayong...</td>\n",
       "      <td>Sun Dec 11, 2022 9:17PM</td>\n",
       "      <td>{'lat': 14.580879, 'lng': 121.1058355}</td>\n",
       "      <td>121.105835</td>\n",
       "      <td>14.580879</td>\n",
       "      <td>4.283387</td>\n",
       "      <td>25.400000</td>\n",
       "    </tr>\n",
       "    <tr>\n",
       "      <th>606</th>\n",
       "      <td>1</td>\n",
       "      <td>Mary The Queen Parish</td>\n",
       "      <td>Madison St., Greenhills West, San Juan City, M...</td>\n",
       "      <td>287229711</td>\n",
       "      <td>NaN</td>\n",
       "      <td>NaN</td>\n",
       "      <td>NaN</td>\n",
       "      <td>NaN</td>\n",
       "      <td>Tue Mar 14, 2023 9:54PM</td>\n",
       "      <td>{'lat': 14.6048541, 'lng': 121.0426946}</td>\n",
       "      <td>121.042695</td>\n",
       "      <td>14.604854</td>\n",
       "      <td>4.312715</td>\n",
       "      <td>14.966667</td>\n",
       "    </tr>\n",
       "    <tr>\n",
       "      <th>634</th>\n",
       "      <td>10</td>\n",
       "      <td>St. Ignatius of Loyola Parish</td>\n",
       "      <td>Gen. Luna St., Ususan, Taguig City, Metro Manila</td>\n",
       "      <td>287251073</td>\n",
       "      <td>Rev. Fr. Emmanuel Hipolito</td>\n",
       "      <td>NaN</td>\n",
       "      <td>NaN</td>\n",
       "      <td>NaN</td>\n",
       "      <td>Sat Dec 10, 2022 11:00PM</td>\n",
       "      <td>{'lat': 14.5322164, 'lng': 121.0680067}</td>\n",
       "      <td>121.068007</td>\n",
       "      <td>14.532216</td>\n",
       "      <td>4.593804</td>\n",
       "      <td>20.616667</td>\n",
       "    </tr>\n",
       "    <tr>\n",
       "      <th>603</th>\n",
       "      <td>94</td>\n",
       "      <td>Transfiguration of Our Lord Parish</td>\n",
       "      <td>#46 18th Avenue, Brgy. San Roque, Murphy, Quez...</td>\n",
       "      <td>287093662</td>\n",
       "      <td>Fr. Pong del Rosario</td>\n",
       "      <td>Monday, Wednesday, Saturday after 6:00AM Mass</td>\n",
       "      <td>NaN</td>\n",
       "      <td>Lauds (Morning Prayer) Mon, Wed, Fri at 7:00AM...</td>\n",
       "      <td>Fri Aug 2, 2024 1:07AM</td>\n",
       "      <td>{'lat': 14.616342, 'lng': 121.063311}</td>\n",
       "      <td>121.063311</td>\n",
       "      <td>14.616342</td>\n",
       "      <td>4.730888</td>\n",
       "      <td>16.650000</td>\n",
       "    </tr>\n",
       "    <tr>\n",
       "      <th>556</th>\n",
       "      <td>47</td>\n",
       "      <td>Our Lady of Perpetual Help Parish</td>\n",
       "      <td>13th Avenue, Socorro, Cubao, Quezon City, Metr...</td>\n",
       "      <td>(02) 8911 7327</td>\n",
       "      <td>NaN</td>\n",
       "      <td>NaN</td>\n",
       "      <td>NaN</td>\n",
       "      <td>NaN</td>\n",
       "      <td>Mon Aug 8, 2022 5:15PM</td>\n",
       "      <td>{'lat': 14.6160133, 'lng': 121.0593203}</td>\n",
       "      <td>121.059320</td>\n",
       "      <td>14.616013</td>\n",
       "      <td>4.748176</td>\n",
       "      <td>15.200000</td>\n",
       "    </tr>\n",
       "    <tr>\n",
       "      <th>608</th>\n",
       "      <td>3</td>\n",
       "      <td>Santuario De Santo Cristo</td>\n",
       "      <td>183 F. Blumentritt St., San Juan City, Metro M...</td>\n",
       "      <td>287245466</td>\n",
       "      <td>NaN</td>\n",
       "      <td>NaN</td>\n",
       "      <td>NaN</td>\n",
       "      <td>NaN</td>\n",
       "      <td>Sat Mar 18, 2023 2:10PM</td>\n",
       "      <td>{'lat': 14.5980455, 'lng': 121.0301522}</td>\n",
       "      <td>121.030152</td>\n",
       "      <td>14.598045</td>\n",
       "      <td>4.776602</td>\n",
       "      <td>20.966667</td>\n",
       "    </tr>\n",
       "  </tbody>\n",
       "</table>\n",
       "</div>"
      ],
      "text/plain": [
       "     Unnamed: 0                                        church_name  \\\n",
       "488          13                           Sta. Rosa de Lima Parish   \n",
       "306          25                               Sta. Teresita Parish   \n",
       "321           2                          Our Lady of Fatima Parish   \n",
       "302          21                       St. John Mary Vianney Parish   \n",
       "481           6                               San Guillermo Parish   \n",
       "288           7                              Mater Dolorosa Parish   \n",
       "541          32           Mary Queen of Peace Shrine (EDSA Shrine)   \n",
       "479           4                                 San Agustin Parish   \n",
       "633           9                   St. Gabriel the Archangel Chapel   \n",
       "492          17                                   The Medical City   \n",
       "289           8           National Shrine of Our Lady of Guadalupe   \n",
       "324           5                             San Felipe Neri Parish   \n",
       "482           7                               San Sebastian Parish   \n",
       "296          15  Sacred Heart of Jesus Chapel (Power Plant Mall...   \n",
       "303          22                       St. John of the Cross Parish   \n",
       "624           0                      Chapel of San Pedro Calungsod   \n",
       "319           0            Archdiocesan Shrine of the Divine Mercy   \n",
       "308          27                         Sts. Peter and Paul Parish   \n",
       "570          61                          Saint John Paul II Parish   \n",
       "298          17                           Santuario de San Antonio   \n",
       "485          10                           St. Jude Thaddeus Parish   \n",
       "606           1                              Mary The Queen Parish   \n",
       "634          10                      St. Ignatius of Loyola Parish   \n",
       "603          94                 Transfiguration of Our Lord Parish   \n",
       "556          47                  Our Lady of Perpetual Help Parish   \n",
       "608           3                          Santuario De Santo Cristo   \n",
       "\n",
       "                                               address  \\\n",
       "488  San Buenaventura Drive,  Bagong Ilog, Pasig Ci...   \n",
       "306  A. Mabini St., West Rembo, Makati City, Metro ...   \n",
       "321  Mariveles Street., Highway Hills, Mandaluyong ...   \n",
       "302  Narra St. , Brgy. Cembo, Makati City, Metro Ma...   \n",
       "481  103 E. Mendoza St., Buting, Pasig City, Metro ...   \n",
       "288   19th Ave., East Rembo, Makati City, Metro Manila   \n",
       "541   EDSA cor. Ortigas Ave, Quezon City, Metro Manila   \n",
       "479  Market Ave., Barangay Palatiw, Pasig City, Met...   \n",
       "633  4th Flr., Uptown Mall, 36th St. corner 9th Ave...   \n",
       "492           Ortigas Avenue, Pasig City, Metro Manila   \n",
       "289  1923 Orense St. , Guadalupe Nuevo, Makati City...   \n",
       "324        Boni Avenue, Mandaluyong City, Metro Manila   \n",
       "482  M.H. Del Pilar St., Barangay Pinagbuhatan, Pas...   \n",
       "296  Rockwell Drive corner Estrella Street, Makati ...   \n",
       "303  Catholic Rectory, 9 Hasmin St . PEMBO, Makati ...   \n",
       "624  SM Aura Premiere, Bonifacio Global City, Tagui...   \n",
       "319  Maysilo Circle, Boni Ave, Mandaluyong City, Me...   \n",
       "308  5539 D. M. Rivera St. , Poblacion, Makati City...   \n",
       "570  Orchard Road, Eastwood City, E. Rodriguez Jr. ...   \n",
       "298  McKinley Road, Forbes Park, Makati City, Metro...   \n",
       "485  Michael Raymond St., Marietta Romeo Village, B...   \n",
       "606  Madison St., Greenhills West, San Juan City, M...   \n",
       "634   Gen. Luna St., Ususan, Taguig City, Metro Manila   \n",
       "603  #46 18th Avenue, Brgy. San Roque, Murphy, Quez...   \n",
       "556  13th Avenue, Socorro, Cubao, Quezon City, Metr...   \n",
       "608  183 F. Blumentritt St., San Juan City, Metro M...   \n",
       "\n",
       "                               telephone number  \\\n",
       "488                                   288915129   \n",
       "306                                   288815241   \n",
       "321                                    532-8400   \n",
       "302                                   288815078   \n",
       "481                              (632) 642-8051   \n",
       "288                                    757-5704   \n",
       "541  0998 552 5309, (+632) 8631 5734, 8637 0295   \n",
       "479                                   286401319   \n",
       "633                                         NaN   \n",
       "492                                         NaN   \n",
       "289                                    88821814   \n",
       "324                                    531-2931   \n",
       "482                                   284770044   \n",
       "296                               0917 884 3606   \n",
       "303                                    728-7316   \n",
       "624                                   284033372   \n",
       "319                                    531-4598   \n",
       "308                                   288993285   \n",
       "570                                (02)86356732   \n",
       "298  02)8843-8830, (02)8843-8831, (02)8843-8832   \n",
       "485                                 +6386557511   \n",
       "606                                   287229711   \n",
       "634                                   287251073   \n",
       "603                                   287093662   \n",
       "556                              (02) 8911 7327   \n",
       "608                                   287245466   \n",
       "\n",
       "                                     priest  \\\n",
       "488                                     NaN   \n",
       "306                                     NaN   \n",
       "321                                     NaN   \n",
       "302                                     NaN   \n",
       "481                      Fr. Bebot Catuiran   \n",
       "288                     Fr. Joel Mosura, TC   \n",
       "541                                     NaN   \n",
       "479        Rev. Fr. Emmanuel Judilla, O.A.D   \n",
       "633                                     NaN   \n",
       "492                                     NaN   \n",
       "289                                     NaN   \n",
       "324                                     NaN   \n",
       "482          Rev. Fr. Feliciano R Gutierrez   \n",
       "296                                     NaN   \n",
       "303                                     NaN   \n",
       "624                                     NaN   \n",
       "319  Msgr. Alberto G. Salonga, Jr. (Rector)   \n",
       "308                                     NaN   \n",
       "570                                     NaN   \n",
       "298                                     NaN   \n",
       "485                                     NaN   \n",
       "606                                     NaN   \n",
       "634              Rev. Fr. Emmanuel Hipolito   \n",
       "603                    Fr. Pong del Rosario   \n",
       "556                                     NaN   \n",
       "608                                     NaN   \n",
       "\n",
       "                                            confession  links  \\\n",
       "488                                   Friday - 5:30 PM    NaN   \n",
       "306                                                NaN    NaN   \n",
       "321                                                NaN    NaN   \n",
       "302                                                NaN    NaN   \n",
       "481  30 minutes before the mass; during Holy Hour o...    NaN   \n",
       "288  Weekdays 5:30 p.m. - 6:00 p.m. , Sat and Sun 5...    NaN   \n",
       "541                                       Upon request    NaN   \n",
       "479                                                NaN    NaN   \n",
       "633                                                NaN    NaN   \n",
       "492                                     11:00 am daily    NaN   \n",
       "289  Mon-Sat: 11AM-12NN and 5:30PM-6:30PM, Sun: 30 ...    NaN   \n",
       "324                                                NaN    NaN   \n",
       "482                                                NaN    NaN   \n",
       "296                                         Sat: 4-6PM    NaN   \n",
       "303                                                NaN    NaN   \n",
       "624                                     Mon-Fri: 3-6PM    NaN   \n",
       "319               Sunday: 6 AM - 12:30 PM, 3 PM - 6 PM    NaN   \n",
       "308                                                NaN    NaN   \n",
       "570  Available after the noon Mass, Monday to Satur...    NaN   \n",
       "298                Daily: 5-6PM at St. Bernardine Room    NaN   \n",
       "485                                                NaN    NaN   \n",
       "606                                                NaN    NaN   \n",
       "634                                                NaN    NaN   \n",
       "603      Monday, Wednesday, Saturday after 6:00AM Mass    NaN   \n",
       "556                                                NaN    NaN   \n",
       "608                                                NaN    NaN   \n",
       "\n",
       "                                       additional info  \\\n",
       "488                                                NaN   \n",
       "306                                                NaN   \n",
       "321                                                NaN   \n",
       "302                                                NaN   \n",
       "481                                                NaN   \n",
       "288                                                NaN   \n",
       "541                                                NaN   \n",
       "479                                                NaN   \n",
       "633                Simbang Gabi: December 15-23 6:00PM   \n",
       "492                                                NaN   \n",
       "289                                                NaN   \n",
       "324     Simbang Gabi: December 15-23 7:30PM and 9:00PM   \n",
       "482                                                NaN   \n",
       "296                                                NaN   \n",
       "303  Youth Mass: Every 4th Sunday of the Month at 6...   \n",
       "624                                                NaN   \n",
       "319                                                NaN   \n",
       "308                                                NaN   \n",
       "570                                                NaN   \n",
       "298                                    Village Masses:   \n",
       "485  Narito po ang ating talaan ng mga Misa ngayong...   \n",
       "606                                                NaN   \n",
       "634                                                NaN   \n",
       "603  Lauds (Morning Prayer) Mon, Wed, Fri at 7:00AM...   \n",
       "556                                                NaN   \n",
       "608                                                NaN   \n",
       "\n",
       "                  last update                                   coords  \\\n",
       "488  Fri Dec 15, 2023 10:55PM  {'lat': 14.5666298, 'lng': 121.0712477}   \n",
       "306    Mon Jun 5, 2023 9:16PM  {'lat': 14.5592198, 'lng': 121.0626459}   \n",
       "321  Wed Mar 17, 2010 10:43AM  {'lat': 14.5814993, 'lng': 121.0502427}   \n",
       "302    Mon Jun 5, 2023 9:25PM  {'lat': 14.5629377, 'lng': 121.0517217}   \n",
       "481   Sun Oct 20, 2013 1:52PM  {'lat': 14.5550453, 'lng': 121.0669212}   \n",
       "288    Wed Sep 4, 2013 1:46PM  {'lat': 14.5539048, 'lng': 121.0619597}   \n",
       "541   Thu Dec 14, 2023 5:35PM  {'lat': 14.5929003, 'lng': 121.0589506}   \n",
       "479  Wed Dec 14, 2022 10:23PM  {'lat': 14.5630345, 'lng': 121.0849293}   \n",
       "633   Sun Mar 13, 2022 8:11PM   {'lat': 14.5565479, 'lng': 121.054103}   \n",
       "492   Sat May 25, 2013 5:11PM  {'lat': 14.5901598, 'lng': 121.0818858}   \n",
       "289   Sun Dec 17, 2023 7:32AM  {'lat': 14.5615541, 'lng': 121.0454919}   \n",
       "324   Sun Dec 12, 2021 9:06AM  {'lat': 14.5764033, 'lng': 121.0385516}   \n",
       "482   Thu Dec 22, 2022 7:29PM  {'lat': 14.5571675, 'lng': 121.0909313}   \n",
       "296   Thu Dec 14, 2023 8:20PM  {'lat': 14.5629736, 'lng': 121.0390755}   \n",
       "303   Mon May 9, 2016 10:04PM   {'lat': 14.572631, 'lng': 121.0357821}   \n",
       "624   Sat Dec 10, 2022 1:03PM    {'lat': 14.546001, 'lng': 121.053927}   \n",
       "319   Thu Aug 25, 2016 9:11PM  {'lat': 14.5767525, 'lng': 121.0347989}   \n",
       "308    Mon Jun 5, 2023 8:45PM  {'lat': 14.5658842, 'lng': 121.0313917}   \n",
       "570   Fri Aug 2, 2024 12:43AM  {'lat': 14.6096463, 'lng': 121.0796001}   \n",
       "298    Sat Aug 6, 2022 3:32PM  {'lat': 14.5474806, 'lng': 121.0379064}   \n",
       "485   Sun Dec 11, 2022 9:17PM   {'lat': 14.580879, 'lng': 121.1058355}   \n",
       "606   Tue Mar 14, 2023 9:54PM  {'lat': 14.6048541, 'lng': 121.0426946}   \n",
       "634  Sat Dec 10, 2022 11:00PM  {'lat': 14.5322164, 'lng': 121.0680067}   \n",
       "603    Fri Aug 2, 2024 1:07AM    {'lat': 14.616342, 'lng': 121.063311}   \n",
       "556    Mon Aug 8, 2022 5:15PM  {'lat': 14.6160133, 'lng': 121.0593203}   \n",
       "608   Sat Mar 18, 2023 2:10PM  {'lat': 14.5980455, 'lng': 121.0301522}   \n",
       "\n",
       "           long        lat  relative_dist  Travel Time(mins)  \n",
       "488  121.071248  14.566630       0.920683           4.683333  \n",
       "306  121.062646  14.559220       1.664583          11.250000  \n",
       "321  121.050243  14.581499       1.978342          14.216667  \n",
       "302  121.051722  14.562938       2.013209          12.466667  \n",
       "481  121.066921  14.555045       2.066051          13.350000  \n",
       "288  121.061960  14.553905       2.252680          10.050000  \n",
       "541  121.058951  14.592900       2.283667           8.383333  \n",
       "479  121.084929  14.563035       2.286023          12.050000  \n",
       "633  121.054103  14.556548       2.339422          10.700000  \n",
       "492  121.081886  14.590160       2.441739          12.550000  \n",
       "289  121.045492  14.561554       2.658947          14.133333  \n",
       "324  121.038552  14.576403       3.055491          15.516667  \n",
       "482  121.090931  14.557168       3.183022          16.833333  \n",
       "296  121.039075  14.562974       3.212670          17.050000  \n",
       "303  121.035782  14.572631       3.341640          20.300000  \n",
       "624  121.053927  14.546001       3.364629          12.316667  \n",
       "319  121.034799  14.576752       3.461720          16.800000  \n",
       "308  121.031392  14.565884       3.909922          18.416667  \n",
       "570  121.079600  14.609646       4.208785          15.450000  \n",
       "298  121.037906  14.547481       4.254876          19.483333  \n",
       "485  121.105835  14.580879       4.283387          25.400000  \n",
       "606  121.042695  14.604854       4.312715          14.966667  \n",
       "634  121.068007  14.532216       4.593804          20.616667  \n",
       "603  121.063311  14.616342       4.730888          16.650000  \n",
       "556  121.059320  14.616013       4.748176          15.200000  \n",
       "608  121.030152  14.598045       4.776602          20.966667  "
      ]
     },
     "execution_count": 17,
     "metadata": {},
     "output_type": "execute_result"
    }
   ],
   "source": [
    "church_results "
   ]
  },
  {
   "cell_type": "code",
   "execution_count": null,
   "metadata": {},
   "outputs": [],
   "source": []
  }
 ],
 "metadata": {
  "colab": {
   "provenance": []
  },
  "kernelspec": {
   "display_name": "Python 3 (ipykernel)",
   "language": "python",
   "name": "python3"
  },
  "language_info": {
   "codemirror_mode": {
    "name": "ipython",
    "version": 3
   },
   "file_extension": ".py",
   "mimetype": "text/x-python",
   "name": "python",
   "nbconvert_exporter": "python",
   "pygments_lexer": "ipython3",
   "version": "3.12.3"
  }
 },
 "nbformat": 4,
 "nbformat_minor": 4
}
